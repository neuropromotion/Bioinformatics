{
 "cells": [
  {
   "cell_type": "code",
   "execution_count": 8,
   "id": "29bd8341",
   "metadata": {},
   "outputs": [],
   "source": [
    "import numpy as np\n",
    "from scipy.stats import binom\n",
    "\n",
    "def permutation_test(n, expr_only_A, expr_only_B, expr_both, expr_neither):\n",
    "    \"\"\"\n",
    "    Perform a one-tailed permutation test to assess co-expression depletion.\n",
    "    \n",
    "    Parameters:\n",
    "    - n: Total number of cells (must equal expr_only_A + expr_only_B + expr_both + expr_neither)\n",
    "    - expr_only_A: Number of cells expressing only gene A\n",
    "    - expr_only_B: Number of cells expressing only gene B\n",
    "    - expr_both: Number of cells expressing both genes (observed co-expression)\n",
    "    - expr_neither: Number of cells expressing neither gene\n",
    "    \n",
    "    Returns:\n",
    "    - pval: Empirical one-tailed p-value for depletion (proportion of permutations with co-expression <= observed)\n",
    "    \"\"\"\n",
    "    # Construct binary expression vectors for gene A and gene B\n",
    "    geneA_vector = np.array([1] * expr_both + [1] * expr_only_A + [0] * expr_only_B + [0] * expr_neither)\n",
    "    geneB_vector = np.array([1] * expr_both + [0] * expr_only_A + [1] * expr_only_B + [0] * expr_neither)\n",
    "    \n",
    "    # Sanity check: Ensure vectors match total n\n",
    "    assert len(geneA_vector) == n\n",
    "    assert len(geneB_vector) == n\n",
    "    \n",
    "    # Observed co-expression count\n",
    "    observed_both = expr_both\n",
    "    \n",
    "    # Run permutation test\n",
    "    ctr = 0\n",
    "    n_perm = 1000\n",
    "    for _ in range(n_perm):\n",
    "        # Shuffle gene A vector\n",
    "        permuted_geneA = np.random.permutation(geneA_vector)\n",
    "        # Count co-expression in permuted data\n",
    "        perm_both = np.sum((permuted_geneA == 1) & (geneB_vector == 1))\n",
    "        # Check if permuted co-expression <= observed (for depletion)\n",
    "        if perm_both <= observed_both:\n",
    "            ctr += 1\n",
    "    \n",
    "    # Calculate p-value with small epsilon for continuity correction\n",
    "    eps = 5e-5\n",
    "    pval = (ctr + eps) / (n_perm + eps)\n",
    "    return pval\n",
    "\n",
    "def binomial_test(n, observed_both, expr_only_A, expr_only_B):\n",
    "    \"\"\"\n",
    "    Perform a one-tailed binomial test to assess co-expression depletion.\n",
    "    \n",
    "    Parameters:\n",
    "    - n: Total number of cells\n",
    "    - observed_both: Observed number of cells expressing both genes\n",
    "    - expr_only_A: Number of cells expressing only gene A\n",
    "    - expr_only_B: Number of cells expressing only gene B\n",
    "    \n",
    "    Returns:\n",
    "    - pval: One-tailed p-value for depletion (P(X <= observed_both) under null hypothesis)\n",
    "    \"\"\"\n",
    "    # Calculate marginal probabilities\n",
    "    p_geneA = (expr_only_A + observed_both) / n\n",
    "    p_geneB = (expr_only_B + observed_both) / n\n",
    "    \n",
    "    # Expected co-expression probability under independence\n",
    "    p_null = p_geneA * p_geneB\n",
    "    \n",
    "    # One-tailed p-value for depletion using cumulative distribution function\n",
    "    pval = binom.cdf(observed_both, n, p_null)\n",
    "    return pval\n"
   ]
  },
  {
   "cell_type": "markdown",
   "id": "247f77b9",
   "metadata": {},
   "source": [
    "## MDK/PTN_PTPRZ1"
   ]
  },
  {
   "cell_type": "code",
   "execution_count": 9,
   "id": "335c9e5a",
   "metadata": {},
   "outputs": [
    {
     "name": "stdout",
     "output_type": "stream",
     "text": [
      "Pval of permutatiton test for MDK_PTPRZ1 group: 4.999999750000013e-08\n",
      "Pval of binom test for MDK_PTPRZ1 group: 6.338858044038879e-08\n"
     ]
    }
   ],
   "source": [
    "n = 11824 # number of cancer cells\n",
    "gene1 = 1102 # expression solely MDK\n",
    "gene2 = 6495 # expression solely PTPRZ1\n",
    "both = 2508 # expression of MDK and PTPRZ1 simultanioulsy \n",
    "neither = 1719 # neither expression\n",
    "group_name = 'MDK_PTPRZ1'\n",
    "\n",
    "permut_pval = permutation_test(n, gene1, gene2, both, neither)\n",
    "binom_pval = binomial_test(n, both, gene1, gene2)\n",
    "\n",
    "print(f'Pval of permutatiton test for {group_name} group: {(permut_pval)}')\n",
    "print(f'Pval of binom test for {group_name} group: {(binom_pval)}')"
   ]
  },
  {
   "cell_type": "code",
   "execution_count": 10,
   "id": "dcc6fb94",
   "metadata": {},
   "outputs": [
    {
     "name": "stdout",
     "output_type": "stream",
     "text": [
      "Pval of permutatiton test for PTN_PTPRZ1 group: 1.0\n",
      "Pval of binom test for PTN_PTPRZ1 group: 0.9999999990000724\n"
     ]
    }
   ],
   "source": [
    "n = 11824 # number of cancer cells\n",
    "gene1 = 2234 # expression solely PTN\n",
    "gene2 = 614 # expression solely PTPRZ1\n",
    "both = 8389 # expression of PTN and PTPRZ1 simultanioulsy \n",
    "neither = 587 # neither expression\n",
    "group_name = 'PTN_PTPRZ1'\n",
    "\n",
    "permut_pval = permutation_test(n, gene1, gene2, both, neither)\n",
    "binom_pval = binomial_test(n, both, gene1, gene2)\n",
    "\n",
    "print(f'Pval of permutatiton test for {group_name} group: {(permut_pval)}')\n",
    "print(f'Pval of binom test for {group_name} group: {(binom_pval)}')"
   ]
  },
  {
   "cell_type": "markdown",
   "id": "bd94d1ef",
   "metadata": {},
   "source": [
    "## MDK/PTN_NCL"
   ]
  },
  {
   "cell_type": "code",
   "execution_count": 18,
   "id": "74bd9d49",
   "metadata": {},
   "outputs": [
    {
     "name": "stdout",
     "output_type": "stream",
     "text": [
      "Pval of permutatiton test for PTN_NCL group: 1.0\n",
      "Pval of binom test for PTN_NCL group: 0.9999915432268576\n"
     ]
    }
   ],
   "source": [
    "n = 11824 # number of cancer cells\n",
    "gene1 = 283 # expression solely MDK\n",
    "gene2 = 6892 # expression solely NCL\n",
    "both = 3327 # expression of MDK and NCL simultanioulsy \n",
    "neither = 1322 # neither expression\n",
    "group_name = 'PTN_NCL'\n",
    "\n",
    "permut_pval = permutation_test(n, gene1, gene2, both, neither)\n",
    "binom_pval = binomial_test(n, both, gene1, gene2)\n",
    "\n",
    "print(f'Pval of permutatiton test for {group_name} group: {(permut_pval)}')\n",
    "print(f'Pval of binom test for {group_name} group: {(binom_pval)}')"
   ]
  },
  {
   "cell_type": "code",
   "execution_count": 17,
   "id": "90471112",
   "metadata": {},
   "outputs": [
    {
     "name": "stdout",
     "output_type": "stream",
     "text": [
      "Pval of permutatiton test for PTN_NCL group: 1.0\n",
      "Pval of binom test for PTN_NCL group: 0.8080973235577199\n"
     ]
    }
   ],
   "source": [
    "n = 11824 # number of cancer cells\n",
    "gene1 = 1403 # expression solely PTN\n",
    "gene2 = 999 # expression solely NCL\n",
    "both = 9220 # expression of PTN and NCL simultanioulsy \n",
    "neither = 202 # neither expression\n",
    "group_name = 'PTN_NCL'\n",
    "\n",
    "permut_pval = permutation_test(n, gene1, gene2, both, neither)\n",
    "binom_pval = binomial_test(n, both, gene1, gene2)\n",
    "\n",
    "print(f'Pval of permutatiton test for {group_name} group: {(permut_pval)}')\n",
    "print(f'Pval of binom test for {group_name} group: {(binom_pval)}')"
   ]
  },
  {
   "cell_type": "markdown",
   "id": "01ad7101",
   "metadata": {},
   "source": [
    "## HBEGF_EGFR"
   ]
  },
  {
   "cell_type": "code",
   "execution_count": 16,
   "id": "39eecb09",
   "metadata": {},
   "outputs": [
    {
     "name": "stdout",
     "output_type": "stream",
     "text": [
      "Pval of permutatiton test for HBEGF_EGFR group: 0.30800003459999825\n",
      "Pval of binom test for HBEGF_EGFR group: 0.3307532027653023\n"
     ]
    }
   ],
   "source": [
    "n = 11824 # number of cancer cells\n",
    "gene1 = 1130 # expression solely HBEGF\n",
    "gene2 = 2501 # expression solely EGFR\n",
    "both = 347 # expression of HBEGF and EGFR simultanioulsy \n",
    "neither = 7846 # neither expression\n",
    "group_name = 'HBEGF_EGFR'\n",
    "\n",
    "permut_pval = permutation_test(n, gene1, gene2, both, neither)\n",
    "binom_pval = binomial_test(n, both, gene1, gene2)\n",
    "\n",
    "print(f'Pval of permutatiton test for {group_name} group: {(permut_pval)}')\n",
    "print(f'Pval of binom test for {group_name} group: {(binom_pval)}')"
   ]
  }
 ],
 "metadata": {
  "kernelspec": {
   "display_name": "base",
   "language": "python",
   "name": "base"
  },
  "language_info": {
   "codemirror_mode": {
    "name": "ipython",
    "version": 3
   },
   "file_extension": ".py",
   "mimetype": "text/x-python",
   "name": "python",
   "nbconvert_exporter": "python",
   "pygments_lexer": "ipython3",
   "version": "3.11.5"
  }
 },
 "nbformat": 4,
 "nbformat_minor": 5
}
