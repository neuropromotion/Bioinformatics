{
  "cells": [
    {
      "cell_type": "markdown",
      "metadata": {
        "id": "view-in-github"
      },
      "source": [
        "<a href=\"https://colab.research.google.com/github/serjisa/transcriptomics.msu/blob/main/%D0%A1%D0%B5%D0%BC%D0%B8%D0%BD%D0%B0%D1%80%D1%8B/01_%D0%91%D0%B0%D0%B7%D0%BE%D0%B2%D0%B0%D1%8F_%D1%80%D0%B0%D0%B1%D0%BE%D1%82%D0%B0_%D1%81_%D0%BF%D1%80%D0%BE%D1%87%D1%82%D0%B5%D0%BD%D0%B8%D1%8F%D0%BC%D0%B8.ipynb\" target=\"_parent\"><img src=\"https://colab.research.google.com/assets/colab-badge.svg\" alt=\"Open In Colab\"/></a>"
      ]
    },
    {
      "cell_type": "markdown",
      "metadata": {
        "id": "V67cia4EXH5a"
      },
      "source": [
        "# Семинар 1. Базовая работа с прочтениями\n",
        "\n",
        "На этом семинаре мы разберём, как хранятся прочтения, какие есть открытые базы данных с прочтениями, а также то, как с ними правильно работать."
      ]
    },
    {
      "cell_type": "markdown",
      "metadata": {
        "id": "4rLoS9QsdRhx"
      },
      "source": [
        "В данной части мы (для уменьшения времени выполнения) будем опираться на датасет <code>SRR3900953</code> (это не RNA-Seq!), однако абсолютно все те же процедуры можно выполнить и для RNA-Seq прочтений (про это будет домашнее задание)."
      ]
    },
    {
      "cell_type": "markdown",
      "metadata": {
        "id": "6Oo_Qo8dcnth"
      },
      "source": [
        "## Загрузка прочтений"
      ]
    },
    {
      "cell_type": "markdown",
      "metadata": {
        "id": "bI4GQExsmKSP"
      },
      "source": [
        "### SRA Toolkit"
      ]
    },
    {
      "cell_type": "markdown",
      "metadata": {
        "id": "Pu1G84tsmmxM"
      },
      "source": [
        "Для того, чтобы загрузить SRA-эксперимент и преобразовать его в .fastq-прочтения (мы сделаем это одновременно одной командой, однако можно выполнить их независимо), необходимо выполнить следующие команды. Сначала мы загрузим SRA Toolkit с сайта NCBI:"
      ]
    },
    {
      "cell_type": "code",
      "execution_count": 12,
      "metadata": {
        "id": "8Io2LvW2fW-L",
        "colab": {
          "base_uri": "https://localhost:8080/"
        },
        "outputId": "bffbbbf9-1434-4d5e-f237-4b9665c66f47"
      },
      "outputs": [
        {
          "output_type": "stream",
          "name": "stdout",
          "text": [
            "--2025-08-19 14:29:30--  https://ftp-trace.ncbi.nlm.nih.gov/sra/sdk/3.0.0/sratoolkit.3.0.0-ubuntu64.tar.gz\n",
            "Resolving ftp-trace.ncbi.nlm.nih.gov (ftp-trace.ncbi.nlm.nih.gov)... 130.14.250.7, 130.14.250.11, 130.14.250.12, ...\n",
            "Connecting to ftp-trace.ncbi.nlm.nih.gov (ftp-trace.ncbi.nlm.nih.gov)|130.14.250.7|:443... connected.\n",
            "HTTP request sent, awaiting response... 200 OK\n",
            "Length: 85777118 (82M) [application/x-gzip]\n",
            "Saving to: ‘sratoolkit.3.0.0-ubuntu64.tar.gz’\n",
            "\n",
            "sratoolkit.3.0.0-ub 100%[===================>]  81.80M  33.3MB/s    in 2.5s    \n",
            "\n",
            "2025-08-19 14:29:32 (33.3 MB/s) - ‘sratoolkit.3.0.0-ubuntu64.tar.gz’ saved [85777118/85777118]\n",
            "\n",
            "sratoolkit.3.0.0-ubuntu64/\n",
            "sratoolkit.3.0.0-ubuntu64/bin/\n",
            "sratoolkit.3.0.0-ubuntu64/bin/abi-dump\n",
            "sratoolkit.3.0.0-ubuntu64/bin/abi-dump.3\n",
            "sratoolkit.3.0.0-ubuntu64/bin/abi-load\n",
            "sratoolkit.3.0.0-ubuntu64/bin/abi-load.3\n",
            "sratoolkit.3.0.0-ubuntu64/bin/align-info\n",
            "sratoolkit.3.0.0-ubuntu64/bin/align-info.3\n",
            "sratoolkit.3.0.0-ubuntu64/bin/bam-load\n",
            "sratoolkit.3.0.0-ubuntu64/bin/bam-load.3\n",
            "sratoolkit.3.0.0-ubuntu64/bin/cache-mgr\n",
            "sratoolkit.3.0.0-ubuntu64/bin/cache-mgr.3\n",
            "sratoolkit.3.0.0-ubuntu64/bin/cg-load\n",
            "sratoolkit.3.0.0-ubuntu64/bin/cg-load.3\n",
            "sratoolkit.3.0.0-ubuntu64/bin/dump-ref-fasta\n",
            "sratoolkit.3.0.0-ubuntu64/bin/dump-ref-fasta.3\n",
            "sratoolkit.3.0.0-ubuntu64/bin/fasterq-dump\n",
            "sratoolkit.3.0.0-ubuntu64/bin/fasterq-dump.3\n",
            "sratoolkit.3.0.0-ubuntu64/bin/fasterq-dump.3.0.0\n",
            "sratoolkit.3.0.0-ubuntu64/bin/fastq-dump\n",
            "sratoolkit.3.0.0-ubuntu64/bin/fastq-dump.3\n",
            "sratoolkit.3.0.0-ubuntu64/bin/fastq-dump.3.0.0\n",
            "sratoolkit.3.0.0-ubuntu64/bin/fastq-load\n",
            "sratoolkit.3.0.0-ubuntu64/bin/fastq-load.3\n",
            "sratoolkit.3.0.0-ubuntu64/bin/helicos-load\n",
            "sratoolkit.3.0.0-ubuntu64/bin/helicos-load.3\n",
            "sratoolkit.3.0.0-ubuntu64/bin/illumina-dump\n",
            "sratoolkit.3.0.0-ubuntu64/bin/illumina-dump.3\n",
            "sratoolkit.3.0.0-ubuntu64/bin/illumina-load\n",
            "sratoolkit.3.0.0-ubuntu64/bin/illumina-load.3\n",
            "sratoolkit.3.0.0-ubuntu64/bin/kar\n",
            "sratoolkit.3.0.0-ubuntu64/bin/kar.3\n",
            "sratoolkit.3.0.0-ubuntu64/bin/kdbmeta\n",
            "sratoolkit.3.0.0-ubuntu64/bin/kdbmeta.3\n",
            "sratoolkit.3.0.0-ubuntu64/bin/latf-load\n",
            "sratoolkit.3.0.0-ubuntu64/bin/latf-load.3\n",
            "sratoolkit.3.0.0-ubuntu64/bin/pacbio-load\n",
            "sratoolkit.3.0.0-ubuntu64/bin/pacbio-load.3\n",
            "sratoolkit.3.0.0-ubuntu64/bin/prefetch\n",
            "sratoolkit.3.0.0-ubuntu64/bin/prefetch.3\n",
            "sratoolkit.3.0.0-ubuntu64/bin/prefetch.3.0.0\n",
            "sratoolkit.3.0.0-ubuntu64/bin/rcexplain\n",
            "sratoolkit.3.0.0-ubuntu64/bin/rcexplain.3\n",
            "sratoolkit.3.0.0-ubuntu64/bin/sam-dump\n",
            "sratoolkit.3.0.0-ubuntu64/bin/sam-dump.3\n",
            "sratoolkit.3.0.0-ubuntu64/bin/sam-dump.3.0.0\n",
            "sratoolkit.3.0.0-ubuntu64/bin/sff-dump\n",
            "sratoolkit.3.0.0-ubuntu64/bin/sff-dump.3\n",
            "sratoolkit.3.0.0-ubuntu64/bin/sff-load\n",
            "sratoolkit.3.0.0-ubuntu64/bin/sff-load.3\n",
            "sratoolkit.3.0.0-ubuntu64/bin/sra-pileup\n",
            "sratoolkit.3.0.0-ubuntu64/bin/sra-pileup.3\n",
            "sratoolkit.3.0.0-ubuntu64/bin/sra-pileup.3.0.0\n",
            "sratoolkit.3.0.0-ubuntu64/bin/sra-search\n",
            "sratoolkit.3.0.0-ubuntu64/bin/sra-search.3\n",
            "sratoolkit.3.0.0-ubuntu64/bin/sra-sort\n",
            "sratoolkit.3.0.0-ubuntu64/bin/sra-sort-cg\n",
            "sratoolkit.3.0.0-ubuntu64/bin/sra-sort-cg.3\n",
            "sratoolkit.3.0.0-ubuntu64/bin/sra-sort.3\n",
            "sratoolkit.3.0.0-ubuntu64/bin/sra-stat\n",
            "sratoolkit.3.0.0-ubuntu64/bin/sra-stat.3\n",
            "sratoolkit.3.0.0-ubuntu64/bin/srapath\n",
            "sratoolkit.3.0.0-ubuntu64/bin/srapath.3\n",
            "sratoolkit.3.0.0-ubuntu64/bin/srapath.3.0.0\n",
            "sratoolkit.3.0.0-ubuntu64/bin/srf-load\n",
            "sratoolkit.3.0.0-ubuntu64/bin/srf-load.3\n",
            "sratoolkit.3.0.0-ubuntu64/bin/test-sra\n",
            "sratoolkit.3.0.0-ubuntu64/bin/test-sra.3\n",
            "sratoolkit.3.0.0-ubuntu64/bin/vdb-config\n",
            "sratoolkit.3.0.0-ubuntu64/bin/vdb-config.3\n",
            "sratoolkit.3.0.0-ubuntu64/bin/vdb-copy\n",
            "sratoolkit.3.0.0-ubuntu64/bin/vdb-copy.3\n",
            "sratoolkit.3.0.0-ubuntu64/bin/vdb-decrypt\n",
            "sratoolkit.3.0.0-ubuntu64/bin/vdb-decrypt.3\n",
            "sratoolkit.3.0.0-ubuntu64/bin/vdb-dump\n",
            "sratoolkit.3.0.0-ubuntu64/bin/vdb-dump.3\n",
            "sratoolkit.3.0.0-ubuntu64/bin/vdb-dump.3.0.0\n",
            "sratoolkit.3.0.0-ubuntu64/bin/vdb-encrypt\n",
            "sratoolkit.3.0.0-ubuntu64/bin/vdb-encrypt.3\n",
            "sratoolkit.3.0.0-ubuntu64/bin/vdb-lock\n",
            "sratoolkit.3.0.0-ubuntu64/bin/vdb-lock.3\n",
            "sratoolkit.3.0.0-ubuntu64/bin/vdb-unlock\n",
            "sratoolkit.3.0.0-ubuntu64/bin/vdb-unlock.3\n",
            "sratoolkit.3.0.0-ubuntu64/bin/vdb-validate\n",
            "sratoolkit.3.0.0-ubuntu64/bin/vdb-validate.3\n",
            "sratoolkit.3.0.0-ubuntu64/bin/ncbi/\n",
            "sratoolkit.3.0.0-ubuntu64/bin/ncbi/certs.kfg\n",
            "sratoolkit.3.0.0-ubuntu64/bin/ncbi/default.kfg\n",
            "sratoolkit.3.0.0-ubuntu64/bin/ncbi/vdb-copy.kfg\n",
            "sratoolkit.3.0.0-ubuntu64/bin/srapath-orig.3.0.0\n",
            "sratoolkit.3.0.0-ubuntu64/bin/sratools.3.0.0\n",
            "sratoolkit.3.0.0-ubuntu64/bin/srf-load.3.0.0\n",
            "sratoolkit.3.0.0-ubuntu64/bin/test-sra.3.0.0\n",
            "sratoolkit.3.0.0-ubuntu64/bin/vdb-config.3.0.0\n",
            "sratoolkit.3.0.0-ubuntu64/bin/vdb-copy.3.0.0\n",
            "sratoolkit.3.0.0-ubuntu64/bin/vdb-decrypt.3.0.0\n",
            "sratoolkit.3.0.0-ubuntu64/bin/vdb-dump-orig.3.0.0\n",
            "sratoolkit.3.0.0-ubuntu64/bin/vdb-encrypt.3.0.0\n",
            "sratoolkit.3.0.0-ubuntu64/bin/vdb-lock.3.0.0\n",
            "sratoolkit.3.0.0-ubuntu64/bin/vdb-unlock.3.0.0\n",
            "sratoolkit.3.0.0-ubuntu64/bin/vdb-validate.3.0.0\n",
            "sratoolkit.3.0.0-ubuntu64/bin/abi-dump.3.0.0\n",
            "sratoolkit.3.0.0-ubuntu64/bin/abi-load.3.0.0\n",
            "sratoolkit.3.0.0-ubuntu64/bin/align-info.3.0.0\n",
            "sratoolkit.3.0.0-ubuntu64/bin/bam-load.3.0.0\n",
            "sratoolkit.3.0.0-ubuntu64/bin/cache-mgr.3.0.0\n",
            "sratoolkit.3.0.0-ubuntu64/bin/cg-load.3.0.0\n",
            "sratoolkit.3.0.0-ubuntu64/bin/dump-ref-fasta.3.0.0\n",
            "sratoolkit.3.0.0-ubuntu64/bin/fasterq-dump-orig.3.0.0\n",
            "sratoolkit.3.0.0-ubuntu64/bin/fastq-dump-orig.3.0.0\n",
            "sratoolkit.3.0.0-ubuntu64/bin/fastq-load.3.0.0\n",
            "sratoolkit.3.0.0-ubuntu64/bin/helicos-load.3.0.0\n",
            "sratoolkit.3.0.0-ubuntu64/bin/illumina-dump.3.0.0\n",
            "sratoolkit.3.0.0-ubuntu64/bin/illumina-load.3.0.0\n",
            "sratoolkit.3.0.0-ubuntu64/bin/kar.3.0.0\n",
            "sratoolkit.3.0.0-ubuntu64/bin/kdbmeta.3.0.0\n",
            "sratoolkit.3.0.0-ubuntu64/bin/latf-load.3.0.0\n",
            "sratoolkit.3.0.0-ubuntu64/bin/pacbio-load.3.0.0\n",
            "sratoolkit.3.0.0-ubuntu64/bin/prefetch-orig.3.0.0\n",
            "sratoolkit.3.0.0-ubuntu64/bin/rcexplain.3.0.0\n",
            "sratoolkit.3.0.0-ubuntu64/bin/sam-dump-orig.3.0.0\n",
            "sratoolkit.3.0.0-ubuntu64/bin/sff-dump.3.0.0\n",
            "sratoolkit.3.0.0-ubuntu64/bin/sff-load.3.0.0\n",
            "sratoolkit.3.0.0-ubuntu64/bin/sra-pileup-orig.3.0.0\n",
            "sratoolkit.3.0.0-ubuntu64/bin/sra-search.3.0.0\n",
            "sratoolkit.3.0.0-ubuntu64/bin/sra-sort-cg.3.0.0\n",
            "sratoolkit.3.0.0-ubuntu64/bin/sra-sort.3.0.0\n",
            "sratoolkit.3.0.0-ubuntu64/bin/sra-stat.3.0.0\n",
            "sratoolkit.3.0.0-ubuntu64/example/\n",
            "sratoolkit.3.0.0-ubuntu64/example/perl/\n",
            "sratoolkit.3.0.0-ubuntu64/example/perl/base-stats.pl\n",
            "sratoolkit.3.0.0-ubuntu64/example/perl/dump-reference.pl\n",
            "sratoolkit.3.0.0-ubuntu64/example/perl/gene-lookup.pl\n",
            "sratoolkit.3.0.0-ubuntu64/example/perl/mismatch-stats.pl\n",
            "sratoolkit.3.0.0-ubuntu64/example/perl/quality-stats.pl\n",
            "sratoolkit.3.0.0-ubuntu64/example/perl/simplefastq.pl\n",
            "sratoolkit.3.0.0-ubuntu64/example/perl/splitfastq.pl\n",
            "sratoolkit.3.0.0-ubuntu64/README-blastn\n",
            "sratoolkit.3.0.0-ubuntu64/README-vdb-config\n",
            "sratoolkit.3.0.0-ubuntu64/schema/\n",
            "sratoolkit.3.0.0-ubuntu64/schema/align/\n",
            "sratoolkit.3.0.0-ubuntu64/schema/align/align.vschema\n",
            "sratoolkit.3.0.0-ubuntu64/schema/align/mate-cache.vschema\n",
            "sratoolkit.3.0.0-ubuntu64/schema/align/pileup-stats.vschema\n",
            "sratoolkit.3.0.0-ubuntu64/schema/align/qstat.vschema\n",
            "sratoolkit.3.0.0-ubuntu64/schema/align/refseq.vschema\n",
            "sratoolkit.3.0.0-ubuntu64/schema/align/seq.vschema\n",
            "sratoolkit.3.0.0-ubuntu64/schema/csra2/\n",
            "sratoolkit.3.0.0-ubuntu64/schema/csra2/csra2.vschema\n",
            "sratoolkit.3.0.0-ubuntu64/schema/csra2/read.vschema\n",
            "sratoolkit.3.0.0-ubuntu64/schema/csra2/reference.vschema\n",
            "sratoolkit.3.0.0-ubuntu64/schema/csra2/stats.vschema\n",
            "sratoolkit.3.0.0-ubuntu64/schema/insdc/\n",
            "sratoolkit.3.0.0-ubuntu64/schema/insdc/insdc.vschema\n",
            "sratoolkit.3.0.0-ubuntu64/schema/insdc/seq.vschema\n",
            "sratoolkit.3.0.0-ubuntu64/schema/insdc/sra.vschema\n",
            "sratoolkit.3.0.0-ubuntu64/schema/ncbi/\n",
            "sratoolkit.3.0.0-ubuntu64/schema/ncbi/clip.vschema\n",
            "sratoolkit.3.0.0-ubuntu64/schema/ncbi/ncbi.vschema\n",
            "sratoolkit.3.0.0-ubuntu64/schema/ncbi/pnbrdb.vschema\n",
            "sratoolkit.3.0.0-ubuntu64/schema/ncbi/seq-graph.vschema\n",
            "sratoolkit.3.0.0-ubuntu64/schema/ncbi/seq.vschema\n",
            "sratoolkit.3.0.0-ubuntu64/schema/ncbi/spotname.vschema\n",
            "sratoolkit.3.0.0-ubuntu64/schema/ncbi/sra.vschema\n",
            "sratoolkit.3.0.0-ubuntu64/schema/ncbi/stats.vschema\n",
            "sratoolkit.3.0.0-ubuntu64/schema/ncbi/trace.vschema\n",
            "sratoolkit.3.0.0-ubuntu64/schema/ncbi/varloc.vschema\n",
            "sratoolkit.3.0.0-ubuntu64/schema/ncbi/wgs-contig.vschema\n",
            "sratoolkit.3.0.0-ubuntu64/schema/sra/\n",
            "sratoolkit.3.0.0-ubuntu64/schema/sra/454.vschema\n",
            "sratoolkit.3.0.0-ubuntu64/schema/sra/abi.vschema\n",
            "sratoolkit.3.0.0-ubuntu64/schema/sra/generic-fastq.vschema\n",
            "sratoolkit.3.0.0-ubuntu64/schema/sra/helicos.vschema\n",
            "sratoolkit.3.0.0-ubuntu64/schema/sra/illumina.vschema\n",
            "sratoolkit.3.0.0-ubuntu64/schema/sra/ion-torrent.vschema\n",
            "sratoolkit.3.0.0-ubuntu64/schema/sra/nanopore.vschema\n",
            "sratoolkit.3.0.0-ubuntu64/schema/sra/pacbio.vschema\n",
            "sratoolkit.3.0.0-ubuntu64/schema/sra/pevents.vschema\n",
            "sratoolkit.3.0.0-ubuntu64/schema/vdb/\n",
            "sratoolkit.3.0.0-ubuntu64/schema/vdb/built-in.vschema\n",
            "sratoolkit.3.0.0-ubuntu64/schema/vdb/vdb.vschema\n",
            "sratoolkit.3.0.0-ubuntu64/CHANGES\n",
            "sratoolkit.3.0.0-ubuntu64/README.md\n"
          ]
        }
      ],
      "source": [
        "!wget https://ftp-trace.ncbi.nlm.nih.gov/sra/sdk/3.0.0/sratoolkit.3.0.0-ubuntu64.tar.gz\n",
        "!tar -xvzf sratoolkit.3.0.0-ubuntu64.tar.gz"
      ]
    },
    {
      "cell_type": "markdown",
      "source": [
        "Нам необходимо загрузить прочтения при помощи программы <code>fasterq-dump</code> из SRA Toolkit. Внутри Google Colab настроить SRA Toolkit правильно крайне сложно, поэтому необходимо будет выполнить некоторую странную процедуру: специально вызвать Segmentation fault у инструмента <code>vdb-config</code>."
      ],
      "metadata": {
        "id": "A7Pi8Jvhnwpv"
      }
    },
    {
      "cell_type": "code",
      "execution_count": 13,
      "metadata": {
        "id": "dTfvxgxCfnBi",
        "colab": {
          "base_uri": "https://localhost:8080/"
        },
        "outputId": "1f0500f6-9bab-4f76-912b-9d3af1e7d1f2"
      },
      "outputs": [
        {
          "output_type": "stream",
          "name": "stdout",
          "text": [
            "\u001b[2J\u001b[?25l\u001b[?1000h\u001b[?1002h2025-08-19T14:29:42 vdb-config.3.0.0 fatal: SIGNAL - Segmentation fault \n"
          ]
        }
      ],
      "source": [
        "!sratoolkit.3.0.0-ubuntu64/bin/vdb-config -i # ONLY IN GOOGLE COLAB"
      ]
    },
    {
      "cell_type": "markdown",
      "source": [
        "Теперь мы можем спокойно запустить <code>fastq-dump</code> и разархивировать наши прочтения:"
      ],
      "metadata": {
        "id": "5Zv1dtd7o7S9"
      }
    },
    {
      "cell_type": "code",
      "source": [
        "!sratoolkit.3.0.0-ubuntu64/bin/fasterq-dump SRR3900953"
      ],
      "metadata": {
        "colab": {
          "base_uri": "https://localhost:8080/"
        },
        "id": "Oww6_RFqnMDT",
        "outputId": "478adef9-af5b-4280-c1f9-5be2ebf4da0f"
      },
      "execution_count": 14,
      "outputs": [
        {
          "output_type": "stream",
          "name": "stdout",
          "text": [
            "spots read      : 4,941,237\n",
            "reads read      : 9,882,474\n",
            "reads written   : 9,882,474\n"
          ]
        }
      ]
    },
    {
      "cell_type": "code",
      "source": [
        "!tail SRR3900953_1.fastq"
      ],
      "metadata": {
        "colab": {
          "base_uri": "https://localhost:8080/"
        },
        "id": "9CiTchhspfjm",
        "outputId": "17384755-a348-471c-be3f-f56f61fb9450"
      },
      "execution_count": 15,
      "outputs": [
        {
          "output_type": "stream",
          "name": "stdout",
          "text": [
            "+SRR3900953.4941235 8_2316_17189_101340_2 length=60\n",
            "CCCCCGGGCGGGGGGGGGCGGGGGEG@@FGGGGGGF>FGEFGGG>EGAGBFGGCF>GBG1\n",
            "@SRR3900953.4941236 8_2316_17335_101333_2 length=60\n",
            "CATGCGGTTTGGATGTGTTTGTTGAATGCAAGCCTGTGGAGGCGTTAACGTCTCAGTTAC\n",
            "+SRR3900953.4941236 8_2316_17335_101333_2 length=60\n",
            "BBCCCEGGGGGGGGGGGGGGGGGGGGGGGGGGGGGGGGGGGGGGGGGGGGGGGGGGGGGG\n",
            "@SRR3900953.4941237 8_2316_17416_101338_2 length=60\n",
            "CATGCCTGGTGTAAGGAAAATATCTGAGAACCGTCAGTGCAAAATCCATGCAATGTGGCC\n",
            "+SRR3900953.4941237 8_2316_17416_101338_2 length=60\n",
            "BCCBCCGGGGGGGGGGGGGGGGGGGGGGGGGGGGGGGGGGGGGGGGGGGGGGGGGGGGEG\n"
          ]
        }
      ]
    },
    {
      "cell_type": "code",
      "source": [],
      "metadata": {
        "id": "kkDkcFJQ1OPy"
      },
      "execution_count": null,
      "outputs": []
    },
    {
      "cell_type": "markdown",
      "metadata": {
        "id": "l2PwnKaKmdtB"
      },
      "source": [
        "### SRA Explorer"
      ]
    },
    {
      "cell_type": "markdown",
      "metadata": {
        "id": "cIYjJgzgmpv1"
      },
      "source": [
        "Однако кроме вариантов загрузки из SRA при помощи SRA Toolkit можно попробовать загрузить прочтения при помощи web-страницы <a href=\"https://sra-explorer.info/\">SRA Explorer</a> &mdash; в таком случае пользователю просто будут указаны прямые ссылки на прочтения, а также много дополнительной информации. Однако не всегда это и правда поможет. Давайте посмотрим, какой результат будет при загрузке прочтений того же эксперимента из этого сервиса:"
      ]
    },
    {
      "cell_type": "code",
      "execution_count": null,
      "metadata": {
        "colab": {
          "base_uri": "https://localhost:8080/"
        },
        "id": "ISnLFse3XEwB",
        "outputId": "fc1e4d2f-18a0-42d0-ad62-bdb40be86aa3"
      },
      "outputs": [
        {
          "output_type": "stream",
          "name": "stdout",
          "text": [
            "--2025-08-16 17:08:48--  ftp://ftp.sra.ebi.ac.uk/vol1/fastq/SRR390/003/SRR3900953/SRR3900953_1.fastq.gz\n",
            "           => ‘SRR3900953_1.fastq.gz’\n",
            "Resolving ftp.sra.ebi.ac.uk (ftp.sra.ebi.ac.uk)... 193.62.193.165\n",
            "Connecting to ftp.sra.ebi.ac.uk (ftp.sra.ebi.ac.uk)|193.62.193.165|:21... connected.\n",
            "Logging in as anonymous ... Logged in!\n",
            "==> SYST ... done.    ==> PWD ... done.\n",
            "==> TYPE I ... done.  ==> CWD (1) /vol1/fastq/SRR390/003/SRR3900953 ... done.\n",
            "==> SIZE SRR3900953_1.fastq.gz ... 196393222\n",
            "==> PASV ... done.    ==> RETR SRR3900953_1.fastq.gz ... done.\n",
            "Length: 196393222 (187M) (unauthoritative)\n",
            "\n",
            "SRR3900953_1.fastq. 100%[===================>] 187.29M  40.9MB/s    in 5.7s    \n",
            "\n",
            "2025-08-16 17:08:55 (32.9 MB/s) - ‘SRR3900953_1.fastq.gz’ saved [196393222]\n",
            "\n",
            "--2025-08-16 17:08:55--  ftp://ftp.sra.ebi.ac.uk/vol1/fastq/SRR390/003/SRR3900953/SRR3900953_2.fastq.gz\n",
            "           => ‘SRR3900953_2.fastq.gz’\n",
            "Resolving ftp.sra.ebi.ac.uk (ftp.sra.ebi.ac.uk)... 193.62.193.165\n",
            "Connecting to ftp.sra.ebi.ac.uk (ftp.sra.ebi.ac.uk)|193.62.193.165|:21... connected.\n",
            "Logging in as anonymous ... Logged in!\n",
            "==> SYST ... done.    ==> PWD ... done.\n",
            "==> TYPE I ... done.  ==> CWD (1) /vol1/fastq/SRR390/003/SRR3900953 ... done.\n",
            "==> SIZE SRR3900953_2.fastq.gz ... 223659231\n",
            "==> PASV ... done.    ==> RETR SRR3900953_2.fastq.gz ... done.\n",
            "Length: 223659231 (213M) (unauthoritative)\n",
            "\n",
            "SRR3900953_2.fastq. 100%[===================>] 213.30M  39.1MB/s    in 6.2s    \n",
            "\n",
            "2025-08-16 17:09:02 (34.6 MB/s) - ‘SRR3900953_2.fastq.gz’ saved [223659231]\n",
            "\n"
          ]
        }
      ],
      "source": [
        "!wget ftp://ftp.sra.ebi.ac.uk/vol1/fastq/SRR390/003/SRR3900953/SRR3900953_1.fastq.gz\n",
        "!wget ftp://ftp.sra.ebi.ac.uk/vol1/fastq/SRR390/003/SRR3900953/SRR3900953_2.fastq.gz"
      ]
    },
    {
      "cell_type": "markdown",
      "source": [
        "Конкретно в данном случае всё хорошо, однако посмотрите на то, что предлагает загрузить SRA Explorer в случае с датасетом <code>SRR6410603</code> (из <a href=\"https://www.nature.com/articles/s41598-018-23226-4\">статьи</a>, с которой вы будете работать дома). Иногда для того, чтобы конкретно распарсить SRA-файл, необходимо чётко обозначить, что файл с прочтениями нужно разбить на два &mdash; с прямыми и с обратными (в случае парноконцевого секвенирования). Здесь это сделано не было. Программа <code>fasterq-dump</code> это делает автоматически."
      ],
      "metadata": {
        "id": "3ktnEtOsqbBi"
      }
    },
    {
      "cell_type": "markdown",
      "source": [
        "#### Задание\n",
        "\n",
        "Прочитайте описание <a href=\"https://github.com/ncbi/sra-tools/wiki/HowTo:-fasterq-dump\">функции fasterq-dump</a> и ответьте на вопрос: какой командой мы сможем получить вместо нескольких файлов с прочтениями (прямыми и обратными) всего один?"
      ],
      "metadata": {
        "id": "nfwWlxpHrN1s"
      }
    },
    {
      "cell_type": "code",
      "source": [
        "!sratoolkit.3.0.0-ubuntu64/bin/fasterq-dump --concatenate-reads SRR3900953"
      ],
      "metadata": {
        "id": "mN-S-jJNra7s",
        "colab": {
          "base_uri": "https://localhost:8080/"
        },
        "outputId": "bbfb6f4b-3db0-4e1f-ddec-adebd8957ccf"
      },
      "execution_count": 8,
      "outputs": [
        {
          "output_type": "stream",
          "name": "stdout",
          "text": [
            "/bin/bash: line 1: sratoolkit.3.0.0-ubuntu64/bin/fasterq-dump: No such file or directory\n"
          ]
        }
      ]
    },
    {
      "cell_type": "code",
      "source": [
        "!head -n 4 SRR3900953.fastq"
      ],
      "metadata": {
        "colab": {
          "base_uri": "https://localhost:8080/"
        },
        "id": "MxL1QsP6sPy3",
        "outputId": "e3159287-5912-4c31-971c-c607308356ba"
      },
      "execution_count": null,
      "outputs": [
        {
          "output_type": "stream",
          "name": "stdout",
          "text": [
            "@SRR3900953.1 8_1101_5015_2203_1 length=120\n",
            "AATTCCACAAAAAACTGGCATAGAAGCAATAGGAAAAATACTTGCCAGCACTGAAAAAATCCAGGATATATAGCCTTTATCCAAGTTCATACTTAGCCATAATGCATTTAAATTAATCAA\n",
            "+SRR3900953.1 8_1101_5015_2203_1 length=120\n",
            "GGGGGGCGGGEGGDDFDGGGGEGGGCGGGGGG:@GGGGGGGGGGGGGEGEFC1E@DGGFGGGGGGFECCFFGC1E1:FF>CFGEF:@D>GEG>:FEEFGFGG@8FGCDCDGG08C@FGF0\n"
          ]
        }
      ]
    },
    {
      "cell_type": "code",
      "source": [
        "!head -n 4 SRR3900953_1.fastq"
      ],
      "metadata": {
        "colab": {
          "base_uri": "https://localhost:8080/"
        },
        "id": "TQaBOK1YsWZl",
        "outputId": "350014a4-0c5e-427f-d469-5e719b17d2d9"
      },
      "execution_count": null,
      "outputs": [
        {
          "output_type": "stream",
          "name": "stdout",
          "text": [
            "@SRR3900953.1 8_1101_5015_2203_1 length=60\n",
            "AATTCCACAAAAAACTGGCATAGAAGCAATAGGAAAAATACTTGCCAGCACTGAAAAAAT\n",
            "+SRR3900953.1 8_1101_5015_2203_1 length=60\n",
            "GGGGGGCGGGEGGDDFDGGGGEGGGCGGGGGG:@GGGGGGGGGGGGGEGEFC1E@DGGFG\n"
          ]
        }
      ]
    },
    {
      "cell_type": "code",
      "source": [
        "!head -n 4 SRR3900953_2.fastq"
      ],
      "metadata": {
        "colab": {
          "base_uri": "https://localhost:8080/"
        },
        "id": "KaKD9DnisheJ",
        "outputId": "f23b9647-6d2e-477d-8ad1-ad44acde73d1"
      },
      "execution_count": null,
      "outputs": [
        {
          "output_type": "stream",
          "name": "stdout",
          "text": [
            "@SRR3900953.1 8_1101_5015_2203_1 length=60\n",
            "CCAGGATATATAGCCTTTATCCAAGTTCATACTTAGCCATAATGCATTTAAATTAATCAA\n",
            "+SRR3900953.1 8_1101_5015_2203_1 length=60\n",
            "GGGGGFECCFFGC1E1:FF>CFGEF:@D>GEG>:FEEFGFGG@8FGCDCDGG08C@FGF0\n"
          ]
        }
      ]
    },
    {
      "cell_type": "markdown",
      "metadata": {
        "id": "upB-1luOndSV"
      },
      "source": [
        "## Контроль качества прочтений"
      ]
    },
    {
      "cell_type": "markdown",
      "source": [
        "### FastQC\n",
        "\n",
        "Для начала загрузим программу, при помощи которой мы будем проводить оценку качества, &mdash; <code>FastQC</code>."
      ],
      "metadata": {
        "id": "yaAbLnqz8Gz-"
      }
    },
    {
      "cell_type": "code",
      "execution_count": 9,
      "metadata": {
        "id": "u4IUo_zmeF5O",
        "colab": {
          "base_uri": "https://localhost:8080/"
        },
        "outputId": "9e34169c-0d65-45df-deae-48e4db60c361"
      },
      "outputs": [
        {
          "output_type": "stream",
          "name": "stdout",
          "text": [
            "--2025-08-19 14:28:13--  https://www.bioinformatics.babraham.ac.uk/projects/fastqc/fastqc_v0.12.1.zip\n",
            "Resolving www.bioinformatics.babraham.ac.uk (www.bioinformatics.babraham.ac.uk)... 149.155.133.4\n",
            "Connecting to www.bioinformatics.babraham.ac.uk (www.bioinformatics.babraham.ac.uk)|149.155.133.4|:443... connected.\n",
            "HTTP request sent, awaiting response... 200 OK\n",
            "Length: 11709692 (11M) [application/zip]\n",
            "Saving to: ‘fastqc_v0.12.1.zip’\n",
            "\n",
            "fastqc_v0.12.1.zip  100%[===================>]  11.17M  12.5MB/s    in 0.9s    \n",
            "\n",
            "2025-08-19 14:28:14 (12.5 MB/s) - ‘fastqc_v0.12.1.zip’ saved [11709692/11709692]\n",
            "\n",
            "Archive:  fastqc_v0.12.1.zip\n",
            "   creating: FastQC/\n",
            "  inflating: FastQC/htsjdk.jar       \n",
            "  inflating: FastQC/README.md        \n",
            "  inflating: FastQC/INSTALL.txt      \n",
            "  inflating: FastQC/LICENSE          \n",
            "   creating: FastQC/net/\n",
            "   creating: FastQC/net/sourceforge/\n",
            "   creating: FastQC/net/sourceforge/iharder/\n",
            "   creating: FastQC/net/sourceforge/iharder/base64/\n",
            "  inflating: FastQC/net/sourceforge/iharder/base64/Base64.class  \n",
            "  inflating: FastQC/net/sourceforge/iharder/base64/Base64$InputStream.class  \n",
            "  inflating: FastQC/net/sourceforge/iharder/base64/Base64$1.class  \n",
            "  inflating: FastQC/net/sourceforge/iharder/base64/Base64$OutputStream.class  \n",
            "  inflating: FastQC/LICENSE_JHDF5.txt  \n",
            "   creating: FastQC/Templates/\n",
            "   creating: FastQC/Templates/Icons/\n",
            " extracting: FastQC/Templates/Icons/tick.png  \n",
            " extracting: FastQC/Templates/Icons/error.png  \n",
            " extracting: FastQC/Templates/Icons/fastqc_icon.png  \n",
            " extracting: FastQC/Templates/Icons/warning.png  \n",
            "  inflating: FastQC/Templates/fastqc2fo.xsl  \n",
            "  inflating: FastQC/Templates/header_template.html  \n",
            "  inflating: FastQC/README.txt       \n",
            "  inflating: FastQC/RELEASE_NOTES.txt  \n",
            "   creating: FastQC/Configuration/\n",
            "  inflating: FastQC/Configuration/contaminant_list.txt  \n",
            "  inflating: FastQC/Configuration/adapter_list.txt  \n",
            "  inflating: FastQC/Configuration/limits.txt  \n",
            "  inflating: FastQC/LICENSE.txt      \n",
            "  inflating: FastQC/fastqc           \n",
            "  inflating: FastQC/run_fastqc.bat   \n",
            "  inflating: FastQC/fastqc_icon.ico  \n",
            "  inflating: FastQC/cisd-jhdf5.jar   \n",
            "  inflating: FastQC/jbzip2-0.9.jar   \n",
            "   creating: FastQC/uk/\n",
            "   creating: FastQC/uk/ac/\n",
            "   creating: FastQC/uk/ac/babraham/\n",
            "   creating: FastQC/uk/ac/babraham/FastQC/\n",
            "   creating: FastQC/uk/ac/babraham/FastQC/Graphs/\n",
            "  inflating: FastQC/uk/ac/babraham/FastQC/Graphs/LineGraph.class  \n",
            "  inflating: FastQC/uk/ac/babraham/FastQC/Graphs/BaseGroup.class  \n",
            "  inflating: FastQC/uk/ac/babraham/FastQC/Graphs/QualityBoxPlot.class  \n",
            "  inflating: FastQC/uk/ac/babraham/FastQC/Graphs/TileGraph.class  \n",
            "  inflating: FastQC/uk/ac/babraham/FastQC/FastQCConfig.class  \n",
            "  inflating: FastQC/uk/ac/babraham/FastQC/FastQCApplication$1.class  \n",
            "   creating: FastQC/uk/ac/babraham/FastQC/Results/\n",
            "  inflating: FastQC/uk/ac/babraham/FastQC/Results/ResultsPanel.class  \n",
            "  inflating: FastQC/uk/ac/babraham/FastQC/Results/ResultsPanel$ModuleRenderer.class  \n",
            "   creating: FastQC/uk/ac/babraham/FastQC/Utilities/\n",
            "  inflating: FastQC/uk/ac/babraham/FastQC/Utilities/NameFormatException.class  \n",
            "  inflating: FastQC/uk/ac/babraham/FastQC/Utilities/HotColdColourGradient.class  \n",
            "  inflating: FastQC/uk/ac/babraham/FastQC/Utilities/CasavaBasename.class  \n",
            "  inflating: FastQC/uk/ac/babraham/FastQC/Utilities/RGB.class  \n",
            "   creating: FastQC/uk/ac/babraham/FastQC/Utilities/ImageSaver/\n",
            "  inflating: FastQC/uk/ac/babraham/FastQC/Utilities/ImageSaver/SVGImageSaver.class  \n",
            "  inflating: FastQC/uk/ac/babraham/FastQC/Utilities/ImageSaver/SVGGenerator.class  \n",
            "  inflating: FastQC/uk/ac/babraham/FastQC/Utilities/ImageSaver/SVGGenerator$SVGGraphics.class  \n",
            "  inflating: FastQC/uk/ac/babraham/FastQC/Utilities/ImageToBase64.class  \n",
            "  inflating: FastQC/uk/ac/babraham/FastQC/Utilities/QualityCount.class  \n",
            "  inflating: FastQC/uk/ac/babraham/FastQC/Utilities/NanoporeBasename.class  \n",
            "  inflating: FastQC/uk/ac/babraham/FastQC/Utilities/MultiMemberGZIPInputStream.class  \n",
            "   creating: FastQC/uk/ac/babraham/FastQC/Sequence/\n",
            "   creating: FastQC/uk/ac/babraham/FastQC/Sequence/Contaminant/\n",
            "  inflating: FastQC/uk/ac/babraham/FastQC/Sequence/Contaminant/ContaminentFinder.class  \n",
            "  inflating: FastQC/uk/ac/babraham/FastQC/Sequence/Contaminant/Contaminant.class  \n",
            "  inflating: FastQC/uk/ac/babraham/FastQC/Sequence/Contaminant/ContaminantHit.class  \n",
            "  inflating: FastQC/uk/ac/babraham/FastQC/Sequence/FastQFile.class  \n",
            "  inflating: FastQC/uk/ac/babraham/FastQC/Sequence/Sequence.class  \n",
            "   creating: FastQC/uk/ac/babraham/FastQC/Sequence/QualityEncoding/\n",
            "  inflating: FastQC/uk/ac/babraham/FastQC/Sequence/QualityEncoding/PhredEncoding.class  \n",
            "  inflating: FastQC/uk/ac/babraham/FastQC/Sequence/Fast5File.class  \n",
            "  inflating: FastQC/uk/ac/babraham/FastQC/Sequence/BAMFile.class  \n",
            "  inflating: FastQC/uk/ac/babraham/FastQC/Sequence/SequenceFactory.class  \n",
            "  inflating: FastQC/uk/ac/babraham/FastQC/Sequence/SequenceFormatException.class  \n",
            "  inflating: FastQC/uk/ac/babraham/FastQC/Sequence/SequenceFileGroup.class  \n",
            "  inflating: FastQC/uk/ac/babraham/FastQC/Sequence/SequenceFile.class  \n",
            "   creating: FastQC/uk/ac/babraham/FastQC/Report/\n",
            "  inflating: FastQC/uk/ac/babraham/FastQC/Report/stylesheet.txt  \n",
            "  inflating: FastQC/uk/ac/babraham/FastQC/Report/HTMLReportArchive.class  \n",
            "  inflating: FastQC/uk/ac/babraham/FastQC/FastQCMenuBar.class  \n",
            "  inflating: FastQC/uk/ac/babraham/FastQC/FastQCApplication.class  \n",
            "   creating: FastQC/uk/ac/babraham/FastQC/Statistics/\n",
            "  inflating: FastQC/uk/ac/babraham/FastQC/Statistics/NormalDistribution.class  \n",
            "  inflating: FastQC/uk/ac/babraham/FastQC/Statistics/PearsonCorrelation.class  \n",
            "   creating: FastQC/uk/ac/babraham/FastQC/Analysis/\n",
            "  inflating: FastQC/uk/ac/babraham/FastQC/Analysis/AnalysisQueue.class  \n",
            "  inflating: FastQC/uk/ac/babraham/FastQC/Analysis/AnalysisListener.class  \n",
            "  inflating: FastQC/uk/ac/babraham/FastQC/Analysis/AnalysisRunner.class  \n",
            "  inflating: FastQC/uk/ac/babraham/FastQC/Analysis/OfflineRunner.class  \n",
            "   creating: FastQC/uk/ac/babraham/FastQC/Dialogs/\n",
            "  inflating: FastQC/uk/ac/babraham/FastQC/Dialogs/AboutDialog$1.class  \n",
            "  inflating: FastQC/uk/ac/babraham/FastQC/Dialogs/FastQCTitlePanel$SmoothJLabel.class  \n",
            "  inflating: FastQC/uk/ac/babraham/FastQC/Dialogs/WelcomePanel.class  \n",
            "  inflating: FastQC/uk/ac/babraham/FastQC/Dialogs/FastQCTitlePanel.class  \n",
            "  inflating: FastQC/uk/ac/babraham/FastQC/Dialogs/AboutDialog.class  \n",
            "   creating: FastQC/uk/ac/babraham/FastQC/FileFilters/\n",
            "  inflating: FastQC/uk/ac/babraham/FastQC/FileFilters/FastQFileFilter.class  \n",
            "  inflating: FastQC/uk/ac/babraham/FastQC/FileFilters/SequenceFileFilter.class  \n",
            "  inflating: FastQC/uk/ac/babraham/FastQC/FileFilters/MappedBAMFileFilter.class  \n",
            "  inflating: FastQC/uk/ac/babraham/FastQC/FileFilters/GobyFileFilter.class  \n",
            "  inflating: FastQC/uk/ac/babraham/FastQC/FileFilters/CasavaFastQFileFilter.class  \n",
            "  inflating: FastQC/uk/ac/babraham/FastQC/FileFilters/BAMFileFilter.class  \n",
            "   creating: FastQC/uk/ac/babraham/FastQC/Modules/\n",
            "  inflating: FastQC/uk/ac/babraham/FastQC/Modules/KmerContent$Kmer.class  \n",
            "  inflating: FastQC/uk/ac/babraham/FastQC/Modules/ModuleConfig.class  \n",
            "  inflating: FastQC/uk/ac/babraham/FastQC/Modules/PerBaseQualityScores.class  \n",
            "  inflating: FastQC/uk/ac/babraham/FastQC/Modules/OverRepresentedSeqs$OverrepresentedSeq.class  \n",
            "  inflating: FastQC/uk/ac/babraham/FastQC/Modules/NContent.class  \n",
            "  inflating: FastQC/uk/ac/babraham/FastQC/Modules/DuplicationLevel.class  \n",
            "  inflating: FastQC/uk/ac/babraham/FastQC/Modules/SequenceLengthDistribution.class  \n",
            "  inflating: FastQC/uk/ac/babraham/FastQC/Modules/BasicStats$ResultsTable.class  \n",
            "  inflating: FastQC/uk/ac/babraham/FastQC/Modules/KmerContent$ResultsTable.class  \n",
            "  inflating: FastQC/uk/ac/babraham/FastQC/Modules/PerBaseSequenceContent.class  \n",
            "   creating: FastQC/uk/ac/babraham/FastQC/Modules/GCModel/\n",
            "  inflating: FastQC/uk/ac/babraham/FastQC/Modules/GCModel/GCModelValue.class  \n",
            "  inflating: FastQC/uk/ac/babraham/FastQC/Modules/GCModel/GCModel.class  \n",
            "  inflating: FastQC/uk/ac/babraham/FastQC/Modules/OverRepresentedSeqs$ResultsTable.class  \n",
            "  inflating: FastQC/uk/ac/babraham/FastQC/Modules/AdapterContent.class  \n",
            "  inflating: FastQC/uk/ac/babraham/FastQC/Modules/PerTileQualityScores.class  \n",
            "  inflating: FastQC/uk/ac/babraham/FastQC/Modules/PerSequenceQualityScores.class  \n",
            "  inflating: FastQC/uk/ac/babraham/FastQC/Modules/QCModule.class  \n",
            "  inflating: FastQC/uk/ac/babraham/FastQC/Modules/KmerContent.class  \n",
            "  inflating: FastQC/uk/ac/babraham/FastQC/Modules/AbstractQCModule.class  \n",
            "  inflating: FastQC/uk/ac/babraham/FastQC/Modules/ModuleFactory.class  \n",
            "  inflating: FastQC/uk/ac/babraham/FastQC/Modules/OverRepresentedSeqs.class  \n",
            "  inflating: FastQC/uk/ac/babraham/FastQC/Modules/AdapterContent$Adapter.class  \n",
            "  inflating: FastQC/uk/ac/babraham/FastQC/Modules/BasicStats.class  \n",
            "  inflating: FastQC/uk/ac/babraham/FastQC/Modules/PerSequenceGCContent.class  \n",
            "  inflating: FastQC/uk/ac/babraham/FastQC/Modules/AdapterContent$ResultsTable.class  \n",
            "   creating: FastQC/uk/ac/babraham/FastQC/Help/\n",
            "  inflating: FastQC/uk/ac/babraham/FastQC/Help/HelpPageDisplay.class  \n",
            "  inflating: FastQC/uk/ac/babraham/FastQC/Help/HelpIndexRoot$FileSorter.class  \n",
            "  inflating: FastQC/uk/ac/babraham/FastQC/Help/HelpDialog.class  \n",
            "  inflating: FastQC/uk/ac/babraham/FastQC/Help/HelpSearchPanel.class  \n",
            "  inflating: FastQC/uk/ac/babraham/FastQC/Help/HelpPageDisplay$HelpEditor.class  \n",
            "  inflating: FastQC/uk/ac/babraham/FastQC/Help/HelpIndexRoot.class  \n",
            "  inflating: FastQC/uk/ac/babraham/FastQC/Help/HelpPage.class  \n",
            "   creating: FastQC/uk/ac/babraham/FastQC/Resources/\n",
            " extracting: FastQC/uk/ac/babraham/FastQC/Resources/fastqc_icon_100.png  \n",
            " extracting: FastQC/uk/ac/babraham/FastQC/Resources/tick.png  \n",
            " extracting: FastQC/uk/ac/babraham/FastQC/Resources/error.png  \n",
            " extracting: FastQC/uk/ac/babraham/FastQC/Resources/fastqc_icon.png  \n",
            " extracting: FastQC/uk/ac/babraham/FastQC/Resources/warning.png  \n",
            "  inflating: FastQC/uk/ac/babraham/FastQC/Resources/fastqc_icon.svg  \n",
            "   creating: FastQC/Help/\n",
            "   creating: FastQC/Help/2 Basic Operations/\n",
            "   creating: FastQC/Help/2 Basic Operations/.svn/\n",
            "   creating: FastQC/Help/2 Basic Operations/.svn/tmp/\n",
            "   creating: FastQC/Help/2 Basic Operations/.svn/tmp/props/\n",
            "   creating: FastQC/Help/2 Basic Operations/.svn/props/\n",
            "   creating: FastQC/Help/2 Basic Operations/.svn/text-base/\n",
            "  inflating: FastQC/Help/2 Basic Operations/.svn/text-base/2.3 Saving a Report.html.svn-base  \n",
            "  inflating: FastQC/Help/2 Basic Operations/.svn/text-base/2.1 Opening a sequence file.html.svn-base  \n",
            "  inflating: FastQC/Help/2 Basic Operations/.svn/text-base/2.2 Evaluating Results.html.svn-base  \n",
            "  inflating: FastQC/Help/2 Basic Operations/.svn/entries  \n",
            "  inflating: FastQC/Help/2 Basic Operations/2.1 Opening a sequence file.html  \n",
            "  inflating: FastQC/Help/2 Basic Operations/2.3 Saving a Report.html  \n",
            "  inflating: FastQC/Help/2 Basic Operations/2.2 Evaluating Results.html  \n",
            "   creating: FastQC/Help/1 Introduction/\n",
            "  inflating: FastQC/Help/1 Introduction/1.1 What is FastQC.html  \n",
            "   creating: FastQC/Help/1 Introduction/.svn/\n",
            "   creating: FastQC/Help/1 Introduction/.svn/tmp/\n",
            "   creating: FastQC/Help/1 Introduction/.svn/tmp/props/\n",
            "   creating: FastQC/Help/1 Introduction/.svn/props/\n",
            "   creating: FastQC/Help/1 Introduction/.svn/text-base/\n",
            "  inflating: FastQC/Help/1 Introduction/.svn/text-base/1.1 What is FastQC.html.svn-base  \n",
            "  inflating: FastQC/Help/1 Introduction/.svn/entries  \n",
            "   creating: FastQC/Help/3 Analysis Modules/\n",
            "  inflating: FastQC/Help/3 Analysis Modules/per_base_quality.png  \n",
            "  inflating: FastQC/Help/3 Analysis Modules/2 Per Base Sequence Quality.html  \n",
            "   creating: FastQC/Help/3 Analysis Modules/.svn/\n",
            "   creating: FastQC/Help/3 Analysis Modules/.svn/prop-base/\n",
            " extracting: FastQC/Help/3 Analysis Modules/.svn/prop-base/per_tile_quality.png.svn-base  \n",
            "  inflating: FastQC/Help/3 Analysis Modules/.svn/prop-base/kmer_profiles.png.svn-base  \n",
            " extracting: FastQC/Help/3 Analysis Modules/.svn/prop-base/sequence_length_distribution.png.svn-base  \n",
            " extracting: FastQC/Help/3 Analysis Modules/.svn/prop-base/per_sequence_quality.png.svn-base  \n",
            " extracting: FastQC/Help/3 Analysis Modules/.svn/prop-base/per_base_n_content.png.svn-base  \n",
            " extracting: FastQC/Help/3 Analysis Modules/.svn/prop-base/per_base_gc_content.png.svn-base  \n",
            " extracting: FastQC/Help/3 Analysis Modules/.svn/prop-base/per_base_quality.png.svn-base  \n",
            " extracting: FastQC/Help/3 Analysis Modules/.svn/prop-base/per_sequence_gc_content.png.svn-base  \n",
            " extracting: FastQC/Help/3 Analysis Modules/.svn/prop-base/per_base_sequence_content.png.svn-base  \n",
            " extracting: FastQC/Help/3 Analysis Modules/.svn/prop-base/duplication_levels.png.svn-base  \n",
            "   creating: FastQC/Help/3 Analysis Modules/.svn/tmp/\n",
            "   creating: FastQC/Help/3 Analysis Modules/.svn/tmp/props/\n",
            "   creating: FastQC/Help/3 Analysis Modules/.svn/props/\n",
            "   creating: FastQC/Help/3 Analysis Modules/.svn/text-base/\n",
            "  inflating: FastQC/Help/3 Analysis Modules/.svn/text-base/8 Duplicate Sequences.html.svn-base  \n",
            "  inflating: FastQC/Help/3 Analysis Modules/.svn/text-base/7 Sequence Length Distribution.html.svn-base  \n",
            "  inflating: FastQC/Help/3 Analysis Modules/.svn/text-base/11 Kmer Content.html.svn-base  \n",
            "  inflating: FastQC/Help/3 Analysis Modules/.svn/text-base/3 Per Sequence Quality Scores.html.svn-base  \n",
            "  inflating: FastQC/Help/3 Analysis Modules/.svn/text-base/per_tile_quality.png.svn-base  \n",
            "  inflating: FastQC/Help/3 Analysis Modules/.svn/text-base/12 Per Tile Sequence Quality.html.svn-base  \n",
            "  inflating: FastQC/Help/3 Analysis Modules/.svn/text-base/kmer_profiles.png.svn-base  \n",
            "  inflating: FastQC/Help/3 Analysis Modules/.svn/text-base/sequence_length_distribution.png.svn-base  \n",
            "  inflating: FastQC/Help/3 Analysis Modules/.svn/text-base/4 Per Base Sequence Content.html.svn-base  \n",
            "  inflating: FastQC/Help/3 Analysis Modules/.svn/text-base/9 Overrepresented Sequences.html.svn-base  \n",
            "  inflating: FastQC/Help/3 Analysis Modules/.svn/text-base/2 Per Base Sequence Quality.html.svn-base  \n",
            "  inflating: FastQC/Help/3 Analysis Modules/.svn/text-base/per_sequence_quality.png.svn-base  \n",
            "  inflating: FastQC/Help/3 Analysis Modules/.svn/text-base/6 Per Base N Content.html.svn-base  \n",
            "  inflating: FastQC/Help/3 Analysis Modules/.svn/text-base/per_base_n_content.png.svn-base  \n",
            "  inflating: FastQC/Help/3 Analysis Modules/.svn/text-base/per_base_gc_content.png.svn-base  \n",
            "  inflating: FastQC/Help/3 Analysis Modules/.svn/text-base/per_base_quality.png.svn-base  \n",
            "  inflating: FastQC/Help/3 Analysis Modules/.svn/text-base/10 Adapter Content.html.svn-base  \n",
            "  inflating: FastQC/Help/3 Analysis Modules/.svn/text-base/5 Per Sequence GC Content.html.svn-base  \n",
            "  inflating: FastQC/Help/3 Analysis Modules/.svn/text-base/per_sequence_gc_content.png.svn-base  \n",
            "  inflating: FastQC/Help/3 Analysis Modules/.svn/text-base/1 Basic Statistics.html.svn-base  \n",
            "  inflating: FastQC/Help/3 Analysis Modules/.svn/text-base/per_base_sequence_content.png.svn-base  \n",
            "  inflating: FastQC/Help/3 Analysis Modules/.svn/text-base/duplication_levels.png.svn-base  \n",
            "  inflating: FastQC/Help/3 Analysis Modules/.svn/entries  \n",
            "  inflating: FastQC/Help/3 Analysis Modules/8 Duplicate Sequences.html  \n",
            "  inflating: FastQC/Help/3 Analysis Modules/6 Per Base N Content.html  \n",
            "  inflating: FastQC/Help/3 Analysis Modules/sequence_length_distribution.png  \n",
            "  inflating: FastQC/Help/3 Analysis Modules/per_base_n_content.png  \n",
            "  inflating: FastQC/Help/3 Analysis Modules/11 Kmer Content.html  \n",
            "  inflating: FastQC/Help/3 Analysis Modules/per_base_sequence_content.png  \n",
            "  inflating: FastQC/Help/3 Analysis Modules/12 Per Tile Sequence Quality.html  \n",
            "  inflating: FastQC/Help/3 Analysis Modules/per_sequence_quality.png  \n",
            "  inflating: FastQC/Help/3 Analysis Modules/per_tile_quality.png  \n",
            "  inflating: FastQC/Help/3 Analysis Modules/4 Per Base Sequence Content.html  \n",
            "  inflating: FastQC/Help/3 Analysis Modules/9 Overrepresented Sequences.html  \n",
            "  inflating: FastQC/Help/3 Analysis Modules/per_sequence_gc_content.png  \n",
            "  inflating: FastQC/Help/3 Analysis Modules/3 Per Sequence Quality Scores.html  \n",
            "  inflating: FastQC/Help/3 Analysis Modules/10 Adapter Content.html  \n",
            "  inflating: FastQC/Help/3 Analysis Modules/1 Basic Statistics.html  \n",
            "  inflating: FastQC/Help/3 Analysis Modules/kmer_profiles.png  \n",
            "  inflating: FastQC/Help/3 Analysis Modules/5 Per Sequence GC Content.html  \n",
            "  inflating: FastQC/Help/3 Analysis Modules/duplication_levels.png  \n",
            "  inflating: FastQC/Help/3 Analysis Modules/7 Sequence Length Distribution.html  \n",
            "  inflating: FastQC/Help/3 Analysis Modules/per_base_gc_content.png  \n",
            "   creating: FastQC/org/\n",
            "   creating: FastQC/org/apache/\n",
            "   creating: FastQC/org/apache/commons/\n",
            "   creating: FastQC/org/apache/commons/math3/\n",
            "   creating: FastQC/org/apache/commons/math3/special/\n",
            "  inflating: FastQC/org/apache/commons/math3/special/Beta$1.class  \n",
            "  inflating: FastQC/org/apache/commons/math3/special/Erf.class  \n",
            "  inflating: FastQC/org/apache/commons/math3/special/Gamma.class  \n",
            "  inflating: FastQC/org/apache/commons/math3/special/Beta.class  \n",
            "  inflating: FastQC/org/apache/commons/math3/special/Gamma$1.class  \n",
            "   creating: FastQC/org/apache/commons/math3/util/\n",
            "  inflating: FastQC/org/apache/commons/math3/util/Incrementor$1.class  \n",
            "  inflating: FastQC/org/apache/commons/math3/util/Incrementor.class  \n",
            "  inflating: FastQC/org/apache/commons/math3/util/ArithmeticUtils.class  \n",
            "  inflating: FastQC/org/apache/commons/math3/util/ContinuedFraction.class  \n",
            "  inflating: FastQC/org/apache/commons/math3/util/Precision.class  \n",
            "  inflating: FastQC/org/apache/commons/math3/util/FastMath$ExpIntTable.class  \n",
            "  inflating: FastQC/org/apache/commons/math3/util/MathUtils.class  \n",
            "  inflating: FastQC/org/apache/commons/math3/util/Incrementor$MaxCountExceededCallback.class  \n",
            "  inflating: FastQC/org/apache/commons/math3/util/FastMathLiteralArrays.class  \n",
            "  inflating: FastQC/org/apache/commons/math3/util/FastMath$lnMant.class  \n",
            "  inflating: FastQC/org/apache/commons/math3/util/FastMath$ExpFracTable.class  \n",
            "  inflating: FastQC/org/apache/commons/math3/util/FastMathCalc.class  \n",
            "  inflating: FastQC/org/apache/commons/math3/util/DoubleArray.class  \n",
            "  inflating: FastQC/org/apache/commons/math3/util/FastMath.class  \n",
            "  inflating: FastQC/org/apache/commons/math3/util/ResizableDoubleArray.class  \n",
            "   creating: FastQC/org/apache/commons/math3/distribution/\n",
            "  inflating: FastQC/org/apache/commons/math3/distribution/PascalDistribution.class  \n",
            "  inflating: FastQC/org/apache/commons/math3/distribution/BinomialDistribution.class  \n",
            "  inflating: FastQC/org/apache/commons/math3/distribution/NormalDistribution.class  \n",
            "  inflating: FastQC/org/apache/commons/math3/distribution/CauchyDistribution.class  \n",
            "  inflating: FastQC/org/apache/commons/math3/distribution/TDistribution.class  \n",
            "  inflating: FastQC/org/apache/commons/math3/distribution/HypergeometricDistribution.class  \n",
            "  inflating: FastQC/org/apache/commons/math3/distribution/GammaDistribution.class  \n",
            "  inflating: FastQC/org/apache/commons/math3/distribution/PoissonDistribution.class  \n",
            "  inflating: FastQC/org/apache/commons/math3/distribution/SaddlePointExpansion.class  \n",
            "  inflating: FastQC/org/apache/commons/math3/distribution/FDistribution.class  \n",
            "  inflating: FastQC/org/apache/commons/math3/distribution/BetaDistribution.class  \n",
            "  inflating: FastQC/org/apache/commons/math3/distribution/AbstractRealDistribution$1.class  \n",
            "  inflating: FastQC/org/apache/commons/math3/distribution/ZipfDistribution.class  \n",
            "  inflating: FastQC/org/apache/commons/math3/distribution/IntegerDistribution.class  \n",
            "  inflating: FastQC/org/apache/commons/math3/distribution/AbstractIntegerDistribution.class  \n",
            "  inflating: FastQC/org/apache/commons/math3/distribution/RealDistribution.class  \n",
            "  inflating: FastQC/org/apache/commons/math3/distribution/ChiSquaredDistribution.class  \n",
            "  inflating: FastQC/org/apache/commons/math3/distribution/WeibullDistribution.class  \n",
            "  inflating: FastQC/org/apache/commons/math3/distribution/AbstractRealDistribution.class  \n",
            "   creating: FastQC/org/apache/commons/math3/exception/\n",
            "  inflating: FastQC/org/apache/commons/math3/exception/MathInternalError.class  \n",
            "  inflating: FastQC/org/apache/commons/math3/exception/NotStrictlyPositiveException.class  \n",
            "   creating: FastQC/org/apache/commons/math3/exception/util/\n",
            "  inflating: FastQC/org/apache/commons/math3/exception/util/ExceptionContextProvider.class  \n",
            "  inflating: FastQC/org/apache/commons/math3/exception/util/ArgUtils.class  \n",
            "  inflating: FastQC/org/apache/commons/math3/exception/util/ExceptionContext.class  \n",
            "  inflating: FastQC/org/apache/commons/math3/exception/util/Localizable.class  \n",
            "  inflating: FastQC/org/apache/commons/math3/exception/util/LocalizedFormats.class  \n",
            "  inflating: FastQC/org/apache/commons/math3/exception/TooManyEvaluationsException.class  \n",
            "  inflating: FastQC/org/apache/commons/math3/exception/MathIllegalStateException.class  \n",
            "  inflating: FastQC/org/apache/commons/math3/exception/MathArithmeticException.class  \n",
            "  inflating: FastQC/org/apache/commons/math3/exception/MathIllegalNumberException.class  \n",
            "  inflating: FastQC/org/apache/commons/math3/exception/MathIllegalArgumentException.class  \n",
            "  inflating: FastQC/org/apache/commons/math3/exception/OutOfRangeException.class  \n",
            "  inflating: FastQC/org/apache/commons/math3/exception/NumberIsTooSmallException.class  \n",
            "  inflating: FastQC/org/apache/commons/math3/exception/MaxCountExceededException.class  \n",
            "  inflating: FastQC/org/apache/commons/math3/exception/NotPositiveException.class  \n",
            "  inflating: FastQC/org/apache/commons/math3/exception/NoBracketingException.class  \n",
            "  inflating: FastQC/org/apache/commons/math3/exception/NotFiniteNumberException.class  \n",
            "  inflating: FastQC/org/apache/commons/math3/exception/NullArgumentException.class  \n",
            "  inflating: FastQC/org/apache/commons/math3/exception/DimensionMismatchException.class  \n",
            "  inflating: FastQC/org/apache/commons/math3/exception/ConvergenceException.class  \n",
            "  inflating: FastQC/org/apache/commons/math3/exception/NumberIsTooLargeException.class  \n",
            "   creating: FastQC/org/apache/commons/math3/random/\n",
            "  inflating: FastQC/org/apache/commons/math3/random/Well19937c.class  \n",
            "  inflating: FastQC/org/apache/commons/math3/random/AbstractWell.class  \n",
            "  inflating: FastQC/org/apache/commons/math3/random/RandomGenerator.class  \n",
            "  inflating: FastQC/org/apache/commons/math3/random/RandomDataImpl.class  \n",
            "  inflating: FastQC/org/apache/commons/math3/random/RandomData.class  \n",
            "  inflating: FastQC/org/apache/commons/math3/random/BitsStreamGenerator.class  \n",
            "   creating: FastQC/org/apache/commons/math3/analysis/\n",
            "  inflating: FastQC/org/apache/commons/math3/analysis/UnivariateFunction.class  \n",
            "   creating: FastQC/org/apache/commons/math3/analysis/solvers/\n",
            "  inflating: FastQC/org/apache/commons/math3/analysis/solvers/BaseAbstractUnivariateSolver.class  \n",
            "  inflating: FastQC/org/apache/commons/math3/analysis/solvers/AllowedSolution.class  \n",
            "  inflating: FastQC/org/apache/commons/math3/analysis/solvers/UnivariateSolverUtils.class  \n",
            "  inflating: FastQC/org/apache/commons/math3/analysis/solvers/BrentSolver.class  \n",
            "  inflating: FastQC/org/apache/commons/math3/analysis/solvers/UnivariateSolver.class  \n",
            "  inflating: FastQC/org/apache/commons/math3/analysis/solvers/BaseUnivariateSolver.class  \n",
            "  inflating: FastQC/org/apache/commons/math3/analysis/solvers/AbstractUnivariateSolver.class  \n",
            "  inflating: FastQC/org/apache/commons/math3/analysis/solvers/BracketedUnivariateSolver.class  \n"
          ]
        }
      ],
      "source": [
        "!wget https://www.bioinformatics.babraham.ac.uk/projects/fastqc/fastqc_v0.12.1.zip\n",
        "!unzip fastqc_v0.12.1.zip"
      ]
    },
    {
      "cell_type": "markdown",
      "source": [
        "Затем сделаем скрипт <code>fastqc</code> выполняемым. В результате выполним анализ качества наших прочтений и положим результаты и все репорты в папку <code>qc</code>, которую перед этим создадим."
      ],
      "metadata": {
        "id": "F5WJVvst7w4k"
      }
    },
    {
      "cell_type": "code",
      "source": [
        "!chmod +x FastQC/fastqc\n",
        "!mkdir qc\n",
        "!FastQC/fastqc -o qc SRR3900953_1.fastq.gz SRR3900953_2.fastq.gz"
      ],
      "metadata": {
        "colab": {
          "base_uri": "https://localhost:8080/"
        },
        "id": "TcxzHdIr7Rpe",
        "outputId": "1750977c-1590-43f5-a3b0-db6bd7852e71"
      },
      "execution_count": 10,
      "outputs": [
        {
          "output_type": "stream",
          "name": "stdout",
          "text": [
            "Skipping 'SRR3900953_1.fastq.gz' which didn't exist, or couldn't be read\n",
            "Skipping 'SRR3900953_2.fastq.gz' which didn't exist, or couldn't be read\n"
          ]
        }
      ]
    },
    {
      "cell_type": "markdown",
      "source": [
        "**Задание**\n",
        "\n",
        "Пожалуйста, посмотрите на .html-репорт, который выдаёт программа FastQC. Посмотрите, какие метрики контроля качества не проходят установленные в этой программе пороги. Объясните результаты. Посмотрите на результат работы FastQC на прочтениях RNA-Seq (загрузите при помощи команды `gdown --id 1tntpS8TBl3ERLMBYnso7tNiHeFVRmk8w`). В чём разница и почему?"
      ],
      "metadata": {
        "id": "5LPDFI8M-wMO"
      }
    },
    {
      "cell_type": "code",
      "source": [
        "!gdown 1tntpS8TBl3ERLMBYnso7tNiHeFVRmk8w"
      ],
      "metadata": {
        "id": "HXXvec72-a00",
        "colab": {
          "base_uri": "https://localhost:8080/"
        },
        "outputId": "200d65a6-cef3-49d5-9503-0461ccb5b828"
      },
      "execution_count": null,
      "outputs": [
        {
          "output_type": "stream",
          "name": "stdout",
          "text": [
            "Downloading...\n",
            "From: https://drive.google.com/uc?id=1tntpS8TBl3ERLMBYnso7tNiHeFVRmk8w\n",
            "To: /content/RNA-Seq_FastQC_example.html\n",
            "\r  0% 0.00/668k [00:00<?, ?B/s]\r100% 668k/668k [00:00<00:00, 487MB/s]\n"
          ]
        }
      ]
    },
    {
      "cell_type": "markdown",
      "source": [
        "### MultiQC\n",
        "\n",
        "Теперь установим программу MultiQC. Она необходима для того, чтобы комбинировать несколько различных отчётов в один. Запустим её, дав путь к директории с отчётами FastQC, и посмотрим на .html-отчёт, который будет получен в результате запуска."
      ],
      "metadata": {
        "id": "fk-7OOxP_BHC"
      }
    },
    {
      "cell_type": "code",
      "source": [
        "!pip3 install multiqc\n",
        "!multiqc qc"
      ],
      "metadata": {
        "id": "UkBWHqrJ7c-h",
        "colab": {
          "base_uri": "https://localhost:8080/"
        },
        "outputId": "5f79383f-b189-4147-9aa1-ebdbb9678ef6"
      },
      "execution_count": 7,
      "outputs": [
        {
          "output_type": "stream",
          "name": "stdout",
          "text": [
            "Collecting multiqc\n",
            "  Downloading multiqc-1.30-py3-none-any.whl.metadata (46 kB)\n",
            "\u001b[?25l     \u001b[90m━━━━━━━━━━━━━━━━━━━━━━━━━━━━━━━━━━━━━━━━\u001b[0m \u001b[32m0.0/46.3 kB\u001b[0m \u001b[31m?\u001b[0m eta \u001b[36m-:--:--\u001b[0m\r\u001b[2K     \u001b[90m━━━━━━━━━━━━━━━━━━━━━━━━━━━━━━━━━━━━━━━━\u001b[0m \u001b[32m46.3/46.3 kB\u001b[0m \u001b[31m3.9 MB/s\u001b[0m eta \u001b[36m0:00:00\u001b[0m\n",
            "\u001b[?25hCollecting boto3 (from multiqc)\n",
            "  Downloading boto3-1.40.12-py3-none-any.whl.metadata (6.7 kB)\n",
            "Requirement already satisfied: click in /usr/local/lib/python3.11/dist-packages (from multiqc) (8.2.1)\n",
            "Requirement already satisfied: humanize in /usr/local/lib/python3.11/dist-packages (from multiqc) (4.12.3)\n",
            "Requirement already satisfied: importlib_metadata in /usr/local/lib/python3.11/dist-packages (from multiqc) (8.7.0)\n",
            "Requirement already satisfied: jinja2>=3.0.0 in /usr/local/lib/python3.11/dist-packages (from multiqc) (3.1.6)\n",
            "Collecting kaleido==0.2.1 (from multiqc)\n",
            "  Downloading kaleido-0.2.1-py2.py3-none-manylinux1_x86_64.whl.metadata (15 kB)\n",
            "Requirement already satisfied: markdown in /usr/local/lib/python3.11/dist-packages (from multiqc) (3.8.2)\n",
            "Requirement already satisfied: numpy in /usr/local/lib/python3.11/dist-packages (from multiqc) (2.0.2)\n",
            "Requirement already satisfied: packaging in /usr/local/lib/python3.11/dist-packages (from multiqc) (25.0)\n",
            "Requirement already satisfied: requests in /usr/local/lib/python3.11/dist-packages (from multiqc) (2.32.3)\n",
            "Requirement already satisfied: Pillow>=10 in /usr/local/lib/python3.11/dist-packages (from multiqc) (11.3.0)\n",
            "Requirement already satisfied: plotly>=5.18 in /usr/local/lib/python3.11/dist-packages (from multiqc) (5.24.1)\n",
            "Requirement already satisfied: pyyaml>=4 in /usr/local/lib/python3.11/dist-packages (from multiqc) (6.0.2)\n",
            "Requirement already satisfied: rich>=10 in /usr/local/lib/python3.11/dist-packages (from multiqc) (13.9.4)\n",
            "Collecting rich-click (from multiqc)\n",
            "  Downloading rich_click-1.8.9-py3-none-any.whl.metadata (7.9 kB)\n",
            "Collecting coloredlogs (from multiqc)\n",
            "  Downloading coloredlogs-15.0.1-py2.py3-none-any.whl.metadata (12 kB)\n",
            "Collecting spectra>=0.0.10 (from multiqc)\n",
            "  Downloading spectra-0.1.0-py3-none-any.whl.metadata (927 bytes)\n",
            "Requirement already satisfied: pydantic>=2.7.0 in /usr/local/lib/python3.11/dist-packages (from multiqc) (2.11.7)\n",
            "Requirement already satisfied: typeguard in /usr/local/lib/python3.11/dist-packages (from multiqc) (4.4.4)\n",
            "Requirement already satisfied: tqdm in /usr/local/lib/python3.11/dist-packages (from multiqc) (4.67.1)\n",
            "Collecting python-dotenv (from multiqc)\n",
            "  Downloading python_dotenv-1.1.1-py3-none-any.whl.metadata (24 kB)\n",
            "Requirement already satisfied: natsort in /usr/local/lib/python3.11/dist-packages (from multiqc) (8.4.0)\n",
            "Requirement already satisfied: tiktoken in /usr/local/lib/python3.11/dist-packages (from multiqc) (0.11.0)\n",
            "Requirement already satisfied: jsonschema in /usr/local/lib/python3.11/dist-packages (from multiqc) (4.25.0)\n",
            "Collecting polars-lts-cpu (from multiqc)\n",
            "  Downloading polars_lts_cpu-1.32.3-cp39-abi3-manylinux_2_17_x86_64.manylinux2014_x86_64.whl.metadata (15 kB)\n",
            "Requirement already satisfied: pyarrow in /usr/local/lib/python3.11/dist-packages (from multiqc) (18.1.0)\n",
            "Requirement already satisfied: MarkupSafe>=2.0 in /usr/local/lib/python3.11/dist-packages (from jinja2>=3.0.0->multiqc) (3.0.2)\n",
            "Requirement already satisfied: tenacity>=6.2.0 in /usr/local/lib/python3.11/dist-packages (from plotly>=5.18->multiqc) (9.1.2)\n",
            "Requirement already satisfied: annotated-types>=0.6.0 in /usr/local/lib/python3.11/dist-packages (from pydantic>=2.7.0->multiqc) (0.7.0)\n",
            "Requirement already satisfied: pydantic-core==2.33.2 in /usr/local/lib/python3.11/dist-packages (from pydantic>=2.7.0->multiqc) (2.33.2)\n",
            "Requirement already satisfied: typing-extensions>=4.12.2 in /usr/local/lib/python3.11/dist-packages (from pydantic>=2.7.0->multiqc) (4.14.1)\n",
            "Requirement already satisfied: typing-inspection>=0.4.0 in /usr/local/lib/python3.11/dist-packages (from pydantic>=2.7.0->multiqc) (0.4.1)\n",
            "Requirement already satisfied: markdown-it-py>=2.2.0 in /usr/local/lib/python3.11/dist-packages (from rich>=10->multiqc) (4.0.0)\n",
            "Requirement already satisfied: pygments<3.0.0,>=2.13.0 in /usr/local/lib/python3.11/dist-packages (from rich>=10->multiqc) (2.19.2)\n",
            "Collecting colormath2>=3.0.0 (from spectra>=0.0.10->multiqc)\n",
            "  Downloading colormath2-3.0.3-py3-none-any.whl.metadata (2.9 kB)\n",
            "Collecting botocore<1.41.0,>=1.40.12 (from boto3->multiqc)\n",
            "  Downloading botocore-1.40.12-py3-none-any.whl.metadata (5.7 kB)\n",
            "Collecting jmespath<2.0.0,>=0.7.1 (from boto3->multiqc)\n",
            "  Downloading jmespath-1.0.1-py3-none-any.whl.metadata (7.6 kB)\n",
            "Collecting s3transfer<0.14.0,>=0.13.0 (from boto3->multiqc)\n",
            "  Downloading s3transfer-0.13.1-py3-none-any.whl.metadata (1.7 kB)\n",
            "Collecting humanfriendly>=9.1 (from coloredlogs->multiqc)\n",
            "  Downloading humanfriendly-10.0-py2.py3-none-any.whl.metadata (9.2 kB)\n",
            "Requirement already satisfied: zipp>=3.20 in /usr/local/lib/python3.11/dist-packages (from importlib_metadata->multiqc) (3.23.0)\n",
            "Requirement already satisfied: attrs>=22.2.0 in /usr/local/lib/python3.11/dist-packages (from jsonschema->multiqc) (25.3.0)\n",
            "Requirement already satisfied: jsonschema-specifications>=2023.03.6 in /usr/local/lib/python3.11/dist-packages (from jsonschema->multiqc) (2025.4.1)\n",
            "Requirement already satisfied: referencing>=0.28.4 in /usr/local/lib/python3.11/dist-packages (from jsonschema->multiqc) (0.36.2)\n",
            "Requirement already satisfied: rpds-py>=0.7.1 in /usr/local/lib/python3.11/dist-packages (from jsonschema->multiqc) (0.27.0)\n",
            "Requirement already satisfied: charset-normalizer<4,>=2 in /usr/local/lib/python3.11/dist-packages (from requests->multiqc) (3.4.3)\n",
            "Requirement already satisfied: idna<4,>=2.5 in /usr/local/lib/python3.11/dist-packages (from requests->multiqc) (3.10)\n",
            "Requirement already satisfied: urllib3<3,>=1.21.1 in /usr/local/lib/python3.11/dist-packages (from requests->multiqc) (2.5.0)\n",
            "Requirement already satisfied: certifi>=2017.4.17 in /usr/local/lib/python3.11/dist-packages (from requests->multiqc) (2025.8.3)\n",
            "Requirement already satisfied: regex>=2022.1.18 in /usr/local/lib/python3.11/dist-packages (from tiktoken->multiqc) (2024.11.6)\n",
            "Requirement already satisfied: python-dateutil<3.0.0,>=2.1 in /usr/local/lib/python3.11/dist-packages (from botocore<1.41.0,>=1.40.12->boto3->multiqc) (2.9.0.post0)\n",
            "Requirement already satisfied: networkx>=2.0 in /usr/local/lib/python3.11/dist-packages (from colormath2>=3.0.0->spectra>=0.0.10->multiqc) (3.5)\n",
            "Requirement already satisfied: mdurl~=0.1 in /usr/local/lib/python3.11/dist-packages (from markdown-it-py>=2.2.0->rich>=10->multiqc) (0.1.2)\n",
            "Requirement already satisfied: six>=1.5 in /usr/local/lib/python3.11/dist-packages (from python-dateutil<3.0.0,>=2.1->botocore<1.41.0,>=1.40.12->boto3->multiqc) (1.17.0)\n",
            "Downloading multiqc-1.30-py3-none-any.whl (4.8 MB)\n",
            "\u001b[2K   \u001b[90m━━━━━━━━━━━━━━━━━━━━━━━━━━━━━━━━━━━━━━━━\u001b[0m \u001b[32m4.8/4.8 MB\u001b[0m \u001b[31m15.3 MB/s\u001b[0m eta \u001b[36m0:00:00\u001b[0m\n",
            "\u001b[?25hDownloading kaleido-0.2.1-py2.py3-none-manylinux1_x86_64.whl (79.9 MB)\n",
            "\u001b[2K   \u001b[90m━━━━━━━━━━━━━━━━━━━━━━━━━━━━━━━━━━━━━━━━\u001b[0m \u001b[32m79.9/79.9 MB\u001b[0m \u001b[31m11.6 MB/s\u001b[0m eta \u001b[36m0:00:00\u001b[0m\n",
            "\u001b[?25hDownloading spectra-0.1.0-py3-none-any.whl (17 kB)\n",
            "Downloading boto3-1.40.12-py3-none-any.whl (140 kB)\n",
            "\u001b[2K   \u001b[90m━━━━━━━━━━━━━━━━━━━━━━━━━━━━━━━━━━━━━━━━\u001b[0m \u001b[32m140.1/140.1 kB\u001b[0m \u001b[31m12.6 MB/s\u001b[0m eta \u001b[36m0:00:00\u001b[0m\n",
            "\u001b[?25hDownloading coloredlogs-15.0.1-py2.py3-none-any.whl (46 kB)\n",
            "\u001b[2K   \u001b[90m━━━━━━━━━━━━━━━━━━━━━━━━━━━━━━━━━━━━━━━━\u001b[0m \u001b[32m46.0/46.0 kB\u001b[0m \u001b[31m4.0 MB/s\u001b[0m eta \u001b[36m0:00:00\u001b[0m\n",
            "\u001b[?25hDownloading polars_lts_cpu-1.32.3-cp39-abi3-manylinux_2_17_x86_64.manylinux2014_x86_64.whl (38.2 MB)\n",
            "\u001b[2K   \u001b[90m━━━━━━━━━━━━━━━━━━━━━━━━━━━━━━━━━━━━━━━━\u001b[0m \u001b[32m38.2/38.2 MB\u001b[0m \u001b[31m16.6 MB/s\u001b[0m eta \u001b[36m0:00:00\u001b[0m\n",
            "\u001b[?25hDownloading python_dotenv-1.1.1-py3-none-any.whl (20 kB)\n",
            "Downloading rich_click-1.8.9-py3-none-any.whl (36 kB)\n",
            "Downloading botocore-1.40.12-py3-none-any.whl (14.0 MB)\n",
            "\u001b[2K   \u001b[90m━━━━━━━━━━━━━━━━━━━━━━━━━━━━━━━━━━━━━━━━\u001b[0m \u001b[32m14.0/14.0 MB\u001b[0m \u001b[31m99.6 MB/s\u001b[0m eta \u001b[36m0:00:00\u001b[0m\n",
            "\u001b[?25hDownloading colormath2-3.0.3-py3-none-any.whl (40 kB)\n",
            "\u001b[2K   \u001b[90m━━━━━━━━━━━━━━━━━━━━━━━━━━━━━━━━━━━━━━━━\u001b[0m \u001b[32m40.7/40.7 kB\u001b[0m \u001b[31m3.8 MB/s\u001b[0m eta \u001b[36m0:00:00\u001b[0m\n",
            "\u001b[?25hDownloading humanfriendly-10.0-py2.py3-none-any.whl (86 kB)\n",
            "\u001b[2K   \u001b[90m━━━━━━━━━━━━━━━━━━━━━━━━━━━━━━━━━━━━━━━━\u001b[0m \u001b[32m86.8/86.8 kB\u001b[0m \u001b[31m8.0 MB/s\u001b[0m eta \u001b[36m0:00:00\u001b[0m\n",
            "\u001b[?25hDownloading jmespath-1.0.1-py3-none-any.whl (20 kB)\n",
            "Downloading s3transfer-0.13.1-py3-none-any.whl (85 kB)\n",
            "\u001b[2K   \u001b[90m━━━━━━━━━━━━━━━━━━━━━━━━━━━━━━━━━━━━━━━━\u001b[0m \u001b[32m85.3/85.3 kB\u001b[0m \u001b[31m7.9 MB/s\u001b[0m eta \u001b[36m0:00:00\u001b[0m\n",
            "\u001b[?25hInstalling collected packages: kaleido, python-dotenv, polars-lts-cpu, jmespath, humanfriendly, colormath2, spectra, coloredlogs, botocore, s3transfer, rich-click, boto3, multiqc\n",
            "Successfully installed boto3-1.40.12 botocore-1.40.12 coloredlogs-15.0.1 colormath2-3.0.3 humanfriendly-10.0 jmespath-1.0.1 kaleido-0.2.1 multiqc-1.30 polars-lts-cpu-1.32.3 python-dotenv-1.1.1 rich-click-1.8.9 s3transfer-0.13.1 spectra-0.1.0\n",
            "                                                                                \n",
            " \u001b[91m///\u001b[0m \u001b]8;id=295721;https://multiqc.info\u001b\\\u001b[1mMultiQC\u001b[0m\u001b]8;;\u001b\\ 🔍 \u001b[2mv1.30\u001b[0m                                                           \n",
            "                                                                                \n",
            " \u001b[33mUsage:\u001b[0m \u001b[1mmultiqc\u001b[0m [\u001b[1;36mOPTIONS\u001b[0m] [\u001b[1;36mANALYSIS\u001b[0m \u001b[1;36mDIRECTORY\u001b[0m]                                  \n",
            "                                                                                \n",
            " This is MultiQC \u001b[36mv1.\u001b[0m\u001b[1;36m30\u001b[0m                                                          \n",
            " For more help, run \u001b[32m'\u001b[0m\u001b[33mmultiqc --help\u001b[0m\u001b[32m'\u001b[0m or visit \u001b]8;id=172079;http://multiqc.info\u001b\\\u001b[4;94mhttp://multiqc.info\u001b[0m\u001b]8;;\u001b\\               \n",
            "\u001b[31m╭─\u001b[0m\u001b[31m Error \u001b[0m\u001b[31m─────────────────────────────────────────────────────────────────────\u001b[0m\u001b[31m─╮\u001b[0m\n",
            "\u001b[31m│\u001b[0m Invalid value for '[ANALYSIS DIRECTORY]': Path 'qc' does not exist.          \u001b[31m│\u001b[0m\n",
            "\u001b[31m╰──────────────────────────────────────────────────────────────────────────────╯\u001b[0m\n",
            "                                                                                \n"
          ]
        }
      ]
    },
    {
      "cell_type": "markdown",
      "source": [
        "В случае, когда вы работаете сразу с большим количеством образцов, это может значительно ускорить процесс анализа данных, а также легко понять, по какой причине те или иные точки могут быть аутлаерами (например, определить образцы с низким по сравнению с другими покрытием и проч.)\n",
        "\n",
        "После этого можно загрузить .html-отчёт о качестве себе на компьютер и посмотреть, всё ли хорошо с прочтениями. Рассмотрим каждый пункт отчёта и возможные проблемы при анализе bulk RNA-Seq:\n",
        "1. Sequence Quality Histograms\n",
        "2. Per Sequence Quality Scores\n",
        "3. <b>Per Base Sequence Content</b> &mdash; проблемы тут в случае RNA-Seq связаны с особенностью подготовки библиотеки (использовались случайные праймеры)\n",
        "4. Per Sequence GC Content\n",
        "5. Per Base N Content\n",
        "6. Sequence Length Distribution\n",
        "7. <b>Sequence Duplication Levels</b> &mdash; в основе порогов данной метрики лежит предположение, что высокое количество дублирующихся прочтений говорит об артефактах ПЦР (это справедливо для, например, геномных библиотек, в которых встретить два одинаковых рида очень маловероятно). Однако для RNA-Seq-экспериментов это нормально, потому что какие-то гены могут встречаться очень часто из-за высокой копийности их РНК (<a href=\"https://www.bioinformatics.babraham.ac.uk/projects/fastqc/Help/3%20Analysis%20Modules/8%20Duplicate%20Sequences.html\" target=\"_blank\">источник</a>)\n",
        "8. <b>Overrepresented sequences</b> &mdash; проблема вызвана аналогичными седьмому пункту проблемами (<a href=\"https://www.bioinformatics.babraham.ac.uk/projects/fastqc/Help/3%20Analysis%20Modules/9%20Overrepresented%20Sequences.html\" target=\"_blank\">источник</a>)\n",
        "9. <b>Adapter Content</b> &mdash; мы видим, что у нас в большом числе прочтений содержатся технические адаптеры. Однако почти все современные алгоритмы для работы с RNA-Seq (в т.ч. и kallisto и STAR) автоматически прорабатывают эту проблему, поэтому мануального устранения не требуется (<a href=\"https://dnatech.genomecenter.ucdavis.edu/faqs/when-should-i-trim-my-illumina-reads-and-how-should-i-do-it/\" target=\"_blank\">про то, когда и зачем лучше обрезать адаптеры</a>)"
      ],
      "metadata": {
        "id": "nc-9yOg9AoUW"
      }
    },
    {
      "cell_type": "markdown",
      "source": [
        "## Введение в Nexflow\n",
        "\n",
        "NextFlow &mdash; это специальный язык, который позволяет вам запускать целые пайплайны из нескольких последовательно выполняемых программ, следя за тем, чтобы каждая стадия выполнялась строго одна за одной."
      ],
      "metadata": {
        "id": "d3uy3diIOves"
      }
    },
    {
      "cell_type": "code",
      "source": [
        "!java -version"
      ],
      "metadata": {
        "colab": {
          "base_uri": "https://localhost:8080/"
        },
        "id": "V0ka5DtmDyj0",
        "outputId": "a901af6e-a006-4966-9a85-5969d4a93c54"
      },
      "execution_count": null,
      "outputs": [
        {
          "output_type": "stream",
          "name": "stdout",
          "text": [
            "openjdk version \"11.0.28\" 2025-07-15\n",
            "OpenJDK Runtime Environment (build 11.0.28+6-post-Ubuntu-1ubuntu122.04.1)\n",
            "OpenJDK 64-Bit Server VM (build 11.0.28+6-post-Ubuntu-1ubuntu122.04.1, mixed mode, sharing)\n"
          ]
        }
      ]
    },
    {
      "cell_type": "code",
      "source": [
        "%%bash\n",
        "sudo apt update\n",
        "sudo apt install openjdk-17-jre"
      ],
      "metadata": {
        "colab": {
          "base_uri": "https://localhost:8080/"
        },
        "collapsed": true,
        "id": "xq5phgaeD69S",
        "outputId": "7a93a60d-18fa-4aba-9397-99d206268cb3"
      },
      "execution_count": 2,
      "outputs": [
        {
          "output_type": "stream",
          "name": "stdout",
          "text": [
            "Hit:1 http://archive.ubuntu.com/ubuntu jammy InRelease\n",
            "Get:2 http://archive.ubuntu.com/ubuntu jammy-updates InRelease [128 kB]\n",
            "Get:3 https://developer.download.nvidia.com/compute/cuda/repos/ubuntu2204/x86_64  InRelease [1,581 B]\n",
            "Get:4 https://cloud.r-project.org/bin/linux/ubuntu jammy-cran40/ InRelease [3,632 B]\n",
            "Hit:5 https://cli.github.com/packages stable InRelease\n",
            "Get:6 http://archive.ubuntu.com/ubuntu jammy-backports InRelease [127 kB]\n",
            "Get:7 http://security.ubuntu.com/ubuntu jammy-security InRelease [129 kB]\n",
            "Get:8 https://r2u.stat.illinois.edu/ubuntu jammy InRelease [6,555 B]\n",
            "Get:9 https://developer.download.nvidia.com/compute/cuda/repos/ubuntu2204/x86_64  Packages [1,937 kB]\n",
            "Get:10 http://archive.ubuntu.com/ubuntu jammy-updates/restricted amd64 Packages [5,369 kB]\n",
            "Get:11 http://archive.ubuntu.com/ubuntu jammy-updates/universe amd64 Packages [1,575 kB]\n",
            "Hit:12 https://ppa.launchpadcontent.net/deadsnakes/ppa/ubuntu jammy InRelease\n",
            "Get:13 http://archive.ubuntu.com/ubuntu jammy-updates/main amd64 Packages [3,546 kB]\n",
            "Hit:14 https://ppa.launchpadcontent.net/graphics-drivers/ppa/ubuntu jammy InRelease\n",
            "Hit:15 https://ppa.launchpadcontent.net/ubuntugis/ppa/ubuntu jammy InRelease\n",
            "Get:16 https://r2u.stat.illinois.edu/ubuntu jammy/main all Packages [9,189 kB]\n",
            "Get:17 http://security.ubuntu.com/ubuntu jammy-security/main amd64 Packages [3,233 kB]\n",
            "Get:18 https://r2u.stat.illinois.edu/ubuntu jammy/main amd64 Packages [2,781 kB]\n",
            "Get:19 http://security.ubuntu.com/ubuntu jammy-security/restricted amd64 Packages [5,174 kB]\n",
            "Get:20 http://security.ubuntu.com/ubuntu jammy-security/universe amd64 Packages [1,271 kB]\n",
            "Fetched 34.5 MB in 3s (11.0 MB/s)\n",
            "Reading package lists...\n",
            "Building dependency tree...\n",
            "Reading state information...\n",
            "62 packages can be upgraded. Run 'apt list --upgradable' to see them.\n",
            "Reading package lists...\n",
            "Building dependency tree...\n",
            "Reading state information...\n",
            "The following additional packages will be installed:\n",
            "  fonts-dejavu-core fonts-dejavu-extra libatk-wrapper-java\n",
            "  libatk-wrapper-java-jni libxtst6 libxxf86dga1 openjdk-17-jre-headless\n",
            "  x11-utils\n",
            "Suggested packages:\n",
            "  libnss-mdns fonts-ipafont-gothic fonts-ipafont-mincho fonts-wqy-microhei\n",
            "  | fonts-wqy-zenhei fonts-indic mesa-utils\n",
            "The following NEW packages will be installed:\n",
            "  fonts-dejavu-core fonts-dejavu-extra libatk-wrapper-java\n",
            "  libatk-wrapper-java-jni libxtst6 libxxf86dga1 openjdk-17-jre\n",
            "  openjdk-17-jre-headless x11-utils\n",
            "0 upgraded, 9 newly installed, 0 to remove and 62 not upgraded.\n",
            "Need to get 52.0 MB of archives.\n",
            "After this operation, 205 MB of additional disk space will be used.\n",
            "Get:1 http://archive.ubuntu.com/ubuntu jammy/main amd64 fonts-dejavu-core all 2.37-2build1 [1,041 kB]\n",
            "Get:2 http://archive.ubuntu.com/ubuntu jammy/main amd64 fonts-dejavu-extra all 2.37-2build1 [2,041 kB]\n",
            "Get:3 http://archive.ubuntu.com/ubuntu jammy/main amd64 libxtst6 amd64 2:1.2.3-1build4 [13.4 kB]\n",
            "Get:4 http://archive.ubuntu.com/ubuntu jammy/main amd64 libxxf86dga1 amd64 2:1.1.5-0ubuntu3 [12.6 kB]\n",
            "Get:5 http://archive.ubuntu.com/ubuntu jammy/main amd64 x11-utils amd64 7.7+5build2 [206 kB]\n",
            "Get:6 http://archive.ubuntu.com/ubuntu jammy/main amd64 libatk-wrapper-java all 0.38.0-5build1 [53.1 kB]\n",
            "Get:7 http://archive.ubuntu.com/ubuntu jammy/main amd64 libatk-wrapper-java-jni amd64 0.38.0-5build1 [49.0 kB]\n",
            "Get:8 http://archive.ubuntu.com/ubuntu jammy-updates/universe amd64 openjdk-17-jre-headless amd64 17.0.16+8~us1-0ubuntu1~22.04.1 [48.3 MB]\n",
            "Get:9 http://archive.ubuntu.com/ubuntu jammy-updates/universe amd64 openjdk-17-jre amd64 17.0.16+8~us1-0ubuntu1~22.04.1 [232 kB]\n",
            "Fetched 52.0 MB in 1s (72.8 MB/s)\n",
            "Selecting previously unselected package fonts-dejavu-core.\r\n",
            "(Reading database ... \r(Reading database ... 5%\r(Reading database ... 10%\r(Reading database ... 15%\r(Reading database ... 20%\r(Reading database ... 25%\r(Reading database ... 30%\r(Reading database ... 35%\r(Reading database ... 40%\r(Reading database ... 45%\r(Reading database ... 50%\r(Reading database ... 55%\r(Reading database ... 60%\r(Reading database ... 65%\r(Reading database ... 70%\r(Reading database ... 75%\r(Reading database ... 80%\r(Reading database ... 85%\r(Reading database ... 90%\r(Reading database ... 95%\r(Reading database ... 100%\r(Reading database ... 126380 files and directories currently installed.)\r\n",
            "Preparing to unpack .../0-fonts-dejavu-core_2.37-2build1_all.deb ...\r\n",
            "Unpacking fonts-dejavu-core (2.37-2build1) ...\r\n",
            "Selecting previously unselected package fonts-dejavu-extra.\r\n",
            "Preparing to unpack .../1-fonts-dejavu-extra_2.37-2build1_all.deb ...\r\n",
            "Unpacking fonts-dejavu-extra (2.37-2build1) ...\r\n",
            "Selecting previously unselected package libxtst6:amd64.\r\n",
            "Preparing to unpack .../2-libxtst6_2%3a1.2.3-1build4_amd64.deb ...\r\n",
            "Unpacking libxtst6:amd64 (2:1.2.3-1build4) ...\r\n",
            "Selecting previously unselected package libxxf86dga1:amd64.\r\n",
            "Preparing to unpack .../3-libxxf86dga1_2%3a1.1.5-0ubuntu3_amd64.deb ...\r\n",
            "Unpacking libxxf86dga1:amd64 (2:1.1.5-0ubuntu3) ...\r\n",
            "Selecting previously unselected package x11-utils.\r\n",
            "Preparing to unpack .../4-x11-utils_7.7+5build2_amd64.deb ...\r\n",
            "Unpacking x11-utils (7.7+5build2) ...\r\n",
            "Selecting previously unselected package libatk-wrapper-java.\r\n",
            "Preparing to unpack .../5-libatk-wrapper-java_0.38.0-5build1_all.deb ...\r\n",
            "Unpacking libatk-wrapper-java (0.38.0-5build1) ...\r\n",
            "Selecting previously unselected package libatk-wrapper-java-jni:amd64.\r\n",
            "Preparing to unpack .../6-libatk-wrapper-java-jni_0.38.0-5build1_amd64.deb ...\r\n",
            "Unpacking libatk-wrapper-java-jni:amd64 (0.38.0-5build1) ...\r\n",
            "Selecting previously unselected package openjdk-17-jre-headless:amd64.\r\n",
            "Preparing to unpack .../7-openjdk-17-jre-headless_17.0.16+8~us1-0ubuntu1~22.04.1_amd64.deb ...\r\n",
            "Unpacking openjdk-17-jre-headless:amd64 (17.0.16+8~us1-0ubuntu1~22.04.1) ...\r\n",
            "Selecting previously unselected package openjdk-17-jre:amd64.\r\n",
            "Preparing to unpack .../8-openjdk-17-jre_17.0.16+8~us1-0ubuntu1~22.04.1_amd64.deb ...\r\n",
            "Unpacking openjdk-17-jre:amd64 (17.0.16+8~us1-0ubuntu1~22.04.1) ...\r\n",
            "Setting up libxtst6:amd64 (2:1.2.3-1build4) ...\r\n",
            "Setting up libxxf86dga1:amd64 (2:1.1.5-0ubuntu3) ...\r\n",
            "Setting up fonts-dejavu-core (2.37-2build1) ...\r\n",
            "Setting up openjdk-17-jre-headless:amd64 (17.0.16+8~us1-0ubuntu1~22.04.1) ...\r\n",
            "update-alternatives: using /usr/lib/jvm/java-17-openjdk-amd64/bin/java to provide /usr/bin/java (java) in auto mode\r\n",
            "update-alternatives: using /usr/lib/jvm/java-17-openjdk-amd64/bin/jpackage to provide /usr/bin/jpackage (jpackage) in auto mode\r\n",
            "update-alternatives: using /usr/lib/jvm/java-17-openjdk-amd64/bin/keytool to provide /usr/bin/keytool (keytool) in auto mode\r\n",
            "update-alternatives: using /usr/lib/jvm/java-17-openjdk-amd64/bin/rmiregistry to provide /usr/bin/rmiregistry (rmiregistry) in auto mode\r\n",
            "update-alternatives: using /usr/lib/jvm/java-17-openjdk-amd64/lib/jexec to provide /usr/bin/jexec (jexec) in auto mode\r\n",
            "Setting up fonts-dejavu-extra (2.37-2build1) ...\r\n",
            "Setting up x11-utils (7.7+5build2) ...\r\n",
            "Setting up libatk-wrapper-java (0.38.0-5build1) ...\r\n",
            "Setting up openjdk-17-jre:amd64 (17.0.16+8~us1-0ubuntu1~22.04.1) ...\r\n",
            "Setting up libatk-wrapper-java-jni:amd64 (0.38.0-5build1) ...\r\n",
            "Processing triggers for fontconfig (2.13.1-4.2ubuntu5) ...\r\n",
            "Processing triggers for hicolor-icon-theme (0.17-2) ...\r\n",
            "Processing triggers for libc-bin (2.35-0ubuntu3.8) ...\r\n",
            "/sbin/ldconfig.real: /usr/local/lib/libur_adapter_level_zero_v2.so.0 is not a symbolic link\r\n",
            "\r\n",
            "/sbin/ldconfig.real: /usr/local/lib/libumf.so.0 is not a symbolic link\r\n",
            "\r\n",
            "/sbin/ldconfig.real: /usr/local/lib/libtcm.so.1 is not a symbolic link\r\n",
            "\r\n",
            "/sbin/ldconfig.real: /usr/local/lib/libtbbbind_2_0.so.3 is not a symbolic link\r\n",
            "\r\n",
            "/sbin/ldconfig.real: /usr/local/lib/libtbbmalloc.so.2 is not a symbolic link\r\n",
            "\r\n",
            "/sbin/ldconfig.real: /usr/local/lib/libhwloc.so.15 is not a symbolic link\r\n",
            "\r\n",
            "/sbin/ldconfig.real: /usr/local/lib/libur_adapter_level_zero.so.0 is not a symbolic link\r\n",
            "\r\n",
            "/sbin/ldconfig.real: /usr/local/lib/libtbb.so.12 is not a symbolic link\r\n",
            "\r\n",
            "/sbin/ldconfig.real: /usr/local/lib/libur_adapter_opencl.so.0 is not a symbolic link\r\n",
            "\r\n",
            "/sbin/ldconfig.real: /usr/local/lib/libtbbmalloc_proxy.so.2 is not a symbolic link\r\n",
            "\r\n",
            "/sbin/ldconfig.real: /usr/local/lib/libur_loader.so.0 is not a symbolic link\r\n",
            "\r\n",
            "/sbin/ldconfig.real: /usr/local/lib/libtbbbind_2_5.so.3 is not a symbolic link\r\n",
            "\r\n",
            "/sbin/ldconfig.real: /usr/local/lib/libtbbbind.so.3 is not a symbolic link\r\n",
            "\r\n",
            "/sbin/ldconfig.real: /usr/local/lib/libtcm_debug.so.1 is not a symbolic link\r\n",
            "\r\n",
            "Processing triggers for man-db (2.10.2-1) ...\r\n",
            "Processing triggers for mailcap (3.70+nmu1ubuntu1) ...\r\n"
          ]
        },
        {
          "output_type": "stream",
          "name": "stderr",
          "text": [
            "\n",
            "WARNING: apt does not have a stable CLI interface. Use with caution in scripts.\n",
            "\n",
            "W: Skipping acquire of configured file 'main/source/Sources' as repository 'https://r2u.stat.illinois.edu/ubuntu jammy InRelease' does not seem to provide it (sources.list entry misspelt?)\n",
            "\n",
            "WARNING: apt does not have a stable CLI interface. Use with caution in scripts.\n",
            "\n",
            "debconf: unable to initialize frontend: Dialog\n",
            "debconf: (No usable dialog-like program is installed, so the dialog based frontend cannot be used. at /usr/share/perl5/Debconf/FrontEnd/Dialog.pm line 78, <> line 9.)\n",
            "debconf: falling back to frontend: Readline\n",
            "debconf: unable to initialize frontend: Readline\n",
            "debconf: (This frontend requires a controlling tty.)\n",
            "debconf: falling back to frontend: Teletype\n",
            "dpkg-preconfigure: unable to re-open stdin: \n"
          ]
        }
      ]
    },
    {
      "cell_type": "code",
      "source": [
        "!java -version"
      ],
      "metadata": {
        "colab": {
          "base_uri": "https://localhost:8080/"
        },
        "id": "rCDJrQicEAeX",
        "outputId": "7862c824-091f-457f-c218-0a98fac43b7a"
      },
      "execution_count": 3,
      "outputs": [
        {
          "output_type": "stream",
          "name": "stdout",
          "text": [
            "openjdk version \"17.0.16\" 2025-07-15\n",
            "OpenJDK Runtime Environment (build 17.0.16+8-Ubuntu-0ubuntu122.04.1)\n",
            "OpenJDK 64-Bit Server VM (build 17.0.16+8-Ubuntu-0ubuntu122.04.1, mixed mode, sharing)\n"
          ]
        }
      ]
    },
    {
      "cell_type": "code",
      "source": [
        "!curl -fsSL https://get.nextflow.io | bash"
      ],
      "metadata": {
        "colab": {
          "base_uri": "https://localhost:8080/"
        },
        "id": "CXTGOLCzO27n",
        "outputId": "75ffd677-71c2-4d58-f9bb-0dd392dab652"
      },
      "execution_count": 4,
      "outputs": [
        {
          "output_type": "stream",
          "name": "stdout",
          "text": [
            "\u001b[K\n",
            "      N E X T F L O W\n",
            "      version 25.04.6 build 5954\n",
            "      created 01-07-2025 11:27 UTC \n",
            "      cite doi:10.1038/nbt.3820\n",
            "      http://nextflow.io\n",
            "\n",
            "\n",
            "Nextflow installation completed. Please note:\n",
            "- the executable file `nextflow` has been created in the folder: /content\n",
            "- you may complete the installation by moving it to a directory in your $PATH\n",
            "\n"
          ]
        }
      ]
    },
    {
      "cell_type": "markdown",
      "source": [
        "Теперь создадим файл <code>my_pipeline.nf</code> со следующим содержанием:\n",
        "```\n",
        "params.SRA = \"SRR000000\"\n",
        "params.results_dir = \"results/\"\n",
        "\n",
        "log.info \"\"\n",
        "log.info \"  Q U A L I T Y   C O N T R O L  \"\n",
        "log.info \"=================================\"\n",
        "log.info \"SRA number         : ${params.SRA}\"\n",
        "log.info \"Results location   : ${params.results_dir}\"\n",
        "```"
      ],
      "metadata": {
        "id": "rFMYCNXkHh8g"
      }
    },
    {
      "cell_type": "markdown",
      "source": [
        "А теперь попробуйте передать различные значения флагов, которые вы описали выше, команде <code>nextflow run my_pipeline.nf</code>:"
      ],
      "metadata": {
        "id": "Q6z6SrM4LYJF"
      }
    },
    {
      "cell_type": "code",
      "source": [
        "!./nextflow run --SRA 666 --results_dir new_path my_pipeline.nf"
      ],
      "metadata": {
        "colab": {
          "base_uri": "https://localhost:8080/"
        },
        "id": "OxLuSZbYPETe",
        "outputId": "c347077b-6be4-4631-ec15-8474c62df2a9"
      },
      "execution_count": null,
      "outputs": [
        {
          "output_type": "stream",
          "name": "stdout",
          "text": [
            "\n",
            "\u001b[1m\u001b[38;5;232m\u001b[48;5;43m N E X T F L O W \u001b[0;2m  ~  \u001b[mversion 25.04.6\u001b[m\n",
            "\u001b[K\n",
            "Launching\u001b[35m `my_pipeline.nf` \u001b[0;2m[\u001b[0;1;36mzen_rubens\u001b[0;2m] DSL2 - \u001b[36mrevision: \u001b[0;36ma54422bfe5\u001b[m\n",
            "\u001b[K\n",
            "  Q U A L I T Y   C O N T R O L  \n",
            "=================================\n",
            "SRA number         : 666\n",
            "Results location   : new_path\n"
          ]
        }
      ]
    },
    {
      "cell_type": "markdown",
      "source": [
        "Теперь модифицируем наш файл так, чтобы он выполнял какой-то процесс. Например, загрузку прочтений по SRA-идентификатору:\n",
        "```\n",
        "params.SRA = \"SRR000000\"\n",
        "params.results_dir = \"results/\"\n",
        "\n",
        "log.info \"\"\n",
        "log.info \"  Q U A L I T Y   C O N T R O L  \"\n",
        "log.info \"=================================\"\n",
        "log.info \"SRA number         : ${params.SRA}\"\n",
        "log.info \"Results location   : ${params.results_dir}\"\n",
        "\n",
        "process DownloadFastQ {\n",
        "  publishDir \"${params.results_dir}\"\n",
        "\n",
        "  output:\n",
        "    path \"reads/*\"\n",
        "\n",
        "  script:\n",
        "    \"\"\"\n",
        "    /content/sratoolkit.3.0.0-ubuntu64/bin/fasterq-dump ${params.SRA} -O reads/\n",
        "    \"\"\"\n",
        "}\n",
        "\n",
        "workflow {\n",
        "  DownloadFastQ()\n",
        "}\n",
        "```\n",
        "\n",
        "А теперь выполните скрипт и проследите за тем, какие файлы создаются в ходе выполнения скрипта:"
      ],
      "metadata": {
        "id": "QWaeDHkYLtJp"
      }
    },
    {
      "cell_type": "code",
      "source": [
        "!./nextflow run my_pipeline.nf --SRA SRR3900953"
      ],
      "metadata": {
        "colab": {
          "base_uri": "https://localhost:8080/"
        },
        "id": "_iyupT1xNR46",
        "outputId": "eee5d851-1dc8-4e8f-bb3e-20829bbe83af"
      },
      "execution_count": null,
      "outputs": [
        {
          "output_type": "stream",
          "name": "stdout",
          "text": [
            "\n",
            "\u001b[1m\u001b[38;5;232m\u001b[48;5;43m N E X T F L O W \u001b[0;2m  ~  \u001b[mversion 25.04.6\u001b[m\n",
            "\u001b[K\n",
            "Launching\u001b[35m `my_pipeline.nf` \u001b[0;2m[\u001b[0;1;36mdetermined_shirley\u001b[0;2m] DSL2 - \u001b[36mrevision: \u001b[0;36m4457d4ca78\u001b[m\n",
            "\u001b[K\n",
            "  Q U A L I T Y   C O N T R O L  \n",
            "=================================\n",
            "SRA number         : SRR3900953\n",
            "Results location   : results/\n",
            "\u001b[2m[\u001b[0;34m-        \u001b[0;2m] \u001b[0;2m\u001b[mDownloadFastQ -\u001b[K\n",
            "\u001b[2A\n",
            "\u001b[2m[\u001b[0;34m-        \u001b[0;2m] \u001b[0;2m\u001b[mDownloadFastQ -\u001b[K\n",
            "\u001b[2m[\u001b[0;34m-        \u001b[0;2m] \u001b[0;2m\u001b[mQC            -\u001b[K\n",
            "\u001b[3A\n",
            "\u001b[2m[\u001b[0;34m-        \u001b[0;2m] \u001b[0;2m\u001b[mDownloadFastQ\u001b[2m |\u001b[m 0 of 1\u001b[K\n",
            "\u001b[2m[\u001b[0;34m-        \u001b[0;2m] \u001b[0;2m\u001b[mQC            -\u001b[K\n",
            "\u001b[3A\n",
            "\u001b[2mexecutor >  local (1)\u001b[m\u001b[K\n",
            "\u001b[2m[\u001b[0;34mc4/3e9e86\u001b[0;2m] \u001b[0;2m\u001b[mDownloadFastQ\u001b[2m |\u001b[m 0 of 1\u001b[K\n",
            "\u001b[2m[\u001b[0;34m-        \u001b[0;2m] \u001b[0;2m\u001b[mQC            -\u001b[K\n",
            "\u001b[4A\n",
            "\u001b[2mexecutor >  local (2)\u001b[m\u001b[K\n",
            "\u001b[2m[\u001b[0;34mc4/3e9e86\u001b[0;2m] \u001b[0;2m\u001b[mDownloadFastQ\u001b[2m |\u001b[m 1 of 1\u001b[32m ✔\u001b[m\u001b[K\n",
            "\u001b[2m[\u001b[0;34ma7/df035f\u001b[0;2m] \u001b[0;2m\u001b[mQC           \u001b[2m |\u001b[m 0 of 1\u001b[K\n",
            "\u001b[4A\n",
            "\u001b[2mexecutor >  local (2)\u001b[m\u001b[K\n",
            "\u001b[2m[\u001b[0;34mc4/3e9e86\u001b[0;2m] \u001b[0;2m\u001b[mDownloadFastQ\u001b[2m |\u001b[m 1 of 1\u001b[32m ✔\u001b[m\u001b[K\n",
            "\u001b[2m[\u001b[0;34ma7/df035f\u001b[0;2m] \u001b[0;2m\u001b[mQC           \u001b[2m |\u001b[m 1 of 1\u001b[32m ✔\u001b[m\u001b[K\n",
            "\u001b[4A\n",
            "\u001b[2mexecutor >  local (2)\u001b[m\u001b[K\n",
            "\u001b[2m[\u001b[0;34mc4/3e9e86\u001b[0;2m] \u001b[0;2m\u001b[mDownloadFastQ\u001b[2m |\u001b[m 1 of 1\u001b[32m ✔\u001b[m\u001b[K\n",
            "\u001b[2m[\u001b[0;34ma7/df035f\u001b[0;2m] \u001b[0;2m\u001b[mQC           \u001b[2m |\u001b[m 1 of 1\u001b[32m ✔\u001b[m\u001b[K\n",
            "\u001b[32;1mCompleted at: 16-Aug-2025 18:28:01\n",
            "Duration    : 2m 14s\n",
            "CPU hours   : (a few seconds)\n",
            "Succeeded   : 2\n",
            "\u001b[22;39m\u001b[K\n",
            "\n"
          ]
        }
      ]
    },
    {
      "cell_type": "markdown",
      "source": [
        "Теперь модифицируем скрипт так, чтобы в итоговую директорию он сохранял как прочтения, так и результаты работы FastQC для всех прочтений:\n",
        "```\n",
        "params.SRA = \"SRR000000\"\n",
        "params.results_dir = \"results/\"\n",
        "\n",
        "log.info \"\"\n",
        "log.info \"  Q U A L I T Y   C O N T R O L  \"\n",
        "log.info \"=================================\"\n",
        "log.info \"SRA number         : ${params.SRA}\"\n",
        "log.info \"Results location   : ${params.results_dir}\"\n",
        "\n",
        "process DownloadFastQ {\n",
        "  publishDir \"${params.results_dir}\"\n",
        "\n",
        "  output:\n",
        "    path \"reads/*\"\n",
        "\n",
        "  script:\n",
        "    \"\"\"\n",
        "    /content/sratoolkit.3.0.0-ubuntu64/bin/fasterq-dump ${params.SRA} -O reads/\n",
        "    \"\"\"\n",
        "}\n",
        "\n",
        "process QC {\n",
        "  publishDir \"${params.results_dir}\"\n",
        "\n",
        "  input:\n",
        "    path x\n",
        "\n",
        "  output:\n",
        "    path \"qc/*.html\"\n",
        "\n",
        "  script:\n",
        "    \"\"\"\n",
        "    mkdir qc\n",
        "    /content/FastQC/fastqc -o qc $x\n",
        "    \"\"\"\n",
        "}\n",
        "\n",
        "workflow {\n",
        "  DownloadFastQ()\n",
        "  QC( DownloadFastQ.out.collect() )\n",
        "}\n",
        "```"
      ],
      "metadata": {
        "id": "XMZLt0SYbp-w"
      }
    },
    {
      "cell_type": "code",
      "source": [
        "!rm -r results"
      ],
      "metadata": {
        "id": "lTXizHbd6PLb"
      },
      "execution_count": null,
      "outputs": []
    },
    {
      "cell_type": "markdown",
      "source": [
        "**Задание**\n",
        "\n",
        "Добавьте в пайплайн выполнение MultiQC (чтобы в итоговой директории оказывался только отчёт MultiQC в .html, но без отчётов FastQC)."
      ],
      "metadata": {
        "id": "6D2lK0QeDNII"
      }
    },
    {
      "cell_type": "code",
      "source": [
        "# check how it works with path\n",
        "%%bash\n",
        "mkdir temporary\n",
        "multiqc -o temporary qc"
      ],
      "metadata": {
        "colab": {
          "base_uri": "https://localhost:8080/"
        },
        "id": "HOv0NFC7MZsR",
        "outputId": "7c0b37d9-9e28-4ae0-d321-5f2a858f9799"
      },
      "execution_count": null,
      "outputs": [
        {
          "output_type": "stream",
          "name": "stderr",
          "text": [
            "\n",
            "/// MultiQC 🔍 v1.30\n",
            "\n",
            "       file_search | Search path: /content/qc\n",
            "\n",
            "            fastqc | Found 2 reports\n",
            "\n",
            "     write_results | Data        : temporary/multiqc_data\n",
            "     write_results | Report      : temporary/multiqc_report.html\n",
            "           multiqc | MultiQC complete\n"
          ]
        }
      ]
    },
    {
      "cell_type": "code",
      "source": [
        "!rm -r results"
      ],
      "metadata": {
        "collapsed": true,
        "id": "dvMHkQOvMhV1"
      },
      "execution_count": null,
      "outputs": []
    },
    {
      "cell_type": "code",
      "source": [
        "!./nextflow run my_pipeline.nf --SRA SRR3900953"
      ],
      "metadata": {
        "id": "V5wB82ZHDV4a",
        "colab": {
          "base_uri": "https://localhost:8080/"
        },
        "outputId": "a4adb389-5ff6-46fe-d2a5-f4003c7880b1"
      },
      "execution_count": null,
      "outputs": [
        {
          "output_type": "stream",
          "name": "stdout",
          "text": [
            "\n",
            "\u001b[1m\u001b[38;5;232m\u001b[48;5;43m N E X T F L O W \u001b[0;2m  ~  \u001b[mversion 25.04.6\u001b[m\n",
            "\u001b[K\n",
            "Launching\u001b[35m `my_pipeline.nf` \u001b[0;2m[\u001b[0;1;36mthirsty_snyder\u001b[0;2m] DSL2 - \u001b[36mrevision: \u001b[0;36m65ad710f09\u001b[m\n",
            "\u001b[K\n",
            "  Q U A L I T Y   C O N T R O L  \n",
            "=========\n",
            "SRA number         : SRR3900953\n",
            "Results location   : results/\n",
            "\u001b[2m[\u001b[0;34m-        \u001b[0;2m] \u001b[0;2m\u001b[mDownloadFastQ -\u001b[K\n",
            "\u001b[2m[\u001b[0;34m-        \u001b[0;2m] \u001b[0;2m\u001b[mQC            -\u001b[K\n",
            "\u001b[2m[\u001b[0;34m-        \u001b[0;2m] \u001b[0;2m\u001b[mmultiQC       -\u001b[K\n",
            "\u001b[4A\n",
            "\u001b[2m[\u001b[0;34m-        \u001b[0;2m] \u001b[0;2m\u001b[mDownloadFastQ\u001b[2m |\u001b[m 0 of 1\u001b[K\n",
            "\u001b[2m[\u001b[0;34m-        \u001b[0;2m] \u001b[0;2m\u001b[mQC            -\u001b[K\n",
            "\u001b[2m[\u001b[0;34m-        \u001b[0;2m] \u001b[0;2m\u001b[mmultiQC       -\u001b[K\n",
            "\u001b[4A\n",
            "\u001b[2mexecutor >  local (1)\u001b[m\u001b[K\n",
            "\u001b[2m[\u001b[0;34m88/8d3f15\u001b[0;2m] \u001b[0;2m\u001b[mDownloadFastQ\u001b[2m |\u001b[m 0 of 1\u001b[K\n",
            "\u001b[2m[\u001b[0;34m-        \u001b[0;2m] \u001b[0;2m\u001b[mQC            -\u001b[K\n",
            "\u001b[2m[\u001b[0;34m-        \u001b[0;2m] \u001b[0;2m\u001b[mmultiQC       -\u001b[K\n",
            "\u001b[5A\n",
            "\u001b[2mexecutor >  local (1)\u001b[m\u001b[K\n",
            "\u001b[2m[\u001b[0;34m88/8d3f15\u001b[0;2m] \u001b[0;2m\u001b[mDownloadFastQ\u001b[2m |\u001b[m 0 of 1\u001b[K\n",
            "\u001b[2m[\u001b[0;34m-        \u001b[0;2m] \u001b[0;2m\u001b[mQC            -\u001b[K\n",
            "\u001b[2m[\u001b[0;34m-        \u001b[0;2m] \u001b[0;2m\u001b[mmultiQC       -\u001b[K\n",
            "\u001b[5A\n",
            "\u001b[2mexecutor >  local (2)\u001b[m\u001b[K\n",
            "\u001b[2m[\u001b[0;34m88/8d3f15\u001b[0;2m] \u001b[0;2m\u001b[mDownloadFastQ\u001b[2m |\u001b[m 1 of 1\u001b[32m ✔\u001b[m\u001b[K\n",
            "\u001b[2m[\u001b[0;34m8d/22353c\u001b[0;2m] \u001b[0;2m\u001b[mQC           \u001b[2m |\u001b[m 0 of 1\u001b[K\n",
            "\u001b[2m[\u001b[0;34m-        \u001b[0;2m] \u001b[0;2m\u001b[mmultiQC       -\u001b[K\n",
            "\u001b[5A\n",
            "\u001b[2mexecutor >  local (2)\u001b[m\u001b[K\n",
            "\u001b[2m[\u001b[0;34m88/8d3f15\u001b[0;2m] \u001b[0;2m\u001b[mDownloadFastQ\u001b[2m |\u001b[m 1 of 1\u001b[32m ✔\u001b[m\u001b[K\n",
            "\u001b[2m[\u001b[0;34m8d/22353c\u001b[0;2m] \u001b[0;2m\u001b[mQC           \u001b[2m |\u001b[m 1 of 1\u001b[32m ✔\u001b[m\u001b[K\n",
            "\u001b[2m[\u001b[0;34m-        \u001b[0;2m] \u001b[0;2m\u001b[mmultiQC       -\u001b[K\n",
            "\u001b[5A\n",
            "\u001b[2mexecutor >  local (3)\u001b[m\u001b[K\n",
            "\u001b[2m[\u001b[0;34m88/8d3f15\u001b[0;2m] \u001b[0;2m\u001b[mDownloadFastQ\u001b[2m |\u001b[m 1 of 1\u001b[32m ✔\u001b[m\u001b[K\n",
            "\u001b[2m[\u001b[0;34m8d/22353c\u001b[0;2m] \u001b[0;2m\u001b[mQC           \u001b[2m |\u001b[m 1 of 1\u001b[32m ✔\u001b[m\u001b[K\n",
            "\u001b[2m[\u001b[0;34md5/44e8ba\u001b[0;2m] \u001b[0;2m\u001b[mmultiQC      \u001b[2m |\u001b[m 0 of 1\u001b[K\n",
            "\u001b[5A\n",
            "\u001b[2mexecutor >  local (3)\u001b[m\u001b[K\n",
            "\u001b[2m[\u001b[0;34m88/8d3f15\u001b[0;2m] \u001b[0;2m\u001b[mDownloadFastQ\u001b[2m |\u001b[m 1 of 1\u001b[32m ✔\u001b[m\u001b[K\n",
            "\u001b[2m[\u001b[0;34m8d/22353c\u001b[0;2m] \u001b[0;2m\u001b[mQC           \u001b[2m |\u001b[m 1 of 1\u001b[32m ✔\u001b[m\u001b[K\n",
            "\u001b[2m[\u001b[0;34md5/44e8ba\u001b[0;2m] \u001b[0;2m\u001b[mmultiQC      \u001b[2m |\u001b[m 1 of 1\u001b[32m ✔\u001b[m\u001b[K\n",
            "\u001b[32;1mCompleted at: 16-Aug-2025 19:28:09\n",
            "Duration    : 2m 26s\n",
            "CPU hours   : (a few seconds)\n",
            "Succeeded   : 3\n",
            "\u001b[22;39m\u001b[K\n",
            "\n"
          ]
        }
      ]
    },
    {
      "cell_type": "markdown",
      "source": [
        "Для того, чтобы обкспечить параллельный запуск сразу нескольких процессов одним и тем же пайплайном, необходимо распарсить аргумент, который мы подаём в переменную <code>SRA</code> как список, после чего запустить наш немного модифицированный пайплайн:\n",
        "```\n",
        "params.results_dir = \"results/\"\n",
        "SRA_list = params.SRA.split(\",\")\n",
        "\n",
        "log.info \"\"\n",
        "log.info \"  Q U A L I T Y   C O N T R O L  \"\n",
        "log.info \"=================================\"\n",
        "log.info \"SRA number         : ${SRA_list}\"\n",
        "log.info \"Results location   : ${params.results_dir}\"\n",
        "\n",
        "process DownloadFastQ {\n",
        "  publishDir \"${params.results_dir}\"\n",
        "\n",
        "  input:\n",
        "    val sra\n",
        "\n",
        "  output:\n",
        "    path \"${sra}/*\"\n",
        "\n",
        "  script:\n",
        "    \"\"\"\n",
        "    /content/sratoolkit.3.0.0-ubuntu64/bin/fasterq-dump ${sra} -O ${sra}/\n",
        "    \"\"\"\n",
        "}\n",
        "\n",
        "process QC {\n",
        "  input:\n",
        "    path x\n",
        "\n",
        "  output:\n",
        "    path \"qc/*\"\n",
        "\n",
        "  script:\n",
        "    \"\"\"\n",
        "    mkdir qc\n",
        "    /content/FastQC/fastqc -o qc $x\n",
        "    \"\"\"\n",
        "}\n",
        "\n",
        "process MultiQC {\n",
        "  publishDir \"${params.results_dir}\"\n",
        "\n",
        "  input:\n",
        "    path x\n",
        "\n",
        "  output:\n",
        "    path \"multiqc_report.html\"\n",
        "\n",
        "  script:\n",
        "    \"\"\"\n",
        "    multiqc $x\n",
        "    \"\"\"\n",
        "}\n",
        "\n",
        "workflow {\n",
        "  data = Channel.of( SRA_list )\n",
        "  DownloadFastQ(data)\n",
        "  QC( DownloadFastQ.out )\n",
        "  MultiQC( QC.out.collect() )\n",
        "}\n",
        "```\n",
        "Для примера возьмём результаты секвенирования пост-ковидного кишечного метагенома (`SRR20851170`, `SRR20851171`, `SRR20851172`, `SRR20851173`, `SRR20851174`, `SRR20851176`, `SRR20851179`, `SRR20851183`)."
      ],
      "metadata": {
        "id": "2lsLkuZmGJ_0"
      }
    },
    {
      "cell_type": "code",
      "source": [
        "!./nextflow run my_pipeline.nf -with-report nextflow_report.html -with-dag flowchart.pdf --SRA SRR20851170,SRR20851171,SRR20851172,SRR20851173,SRR20851174,SRR20851176,SRR20851179,SRR20851183"
      ],
      "metadata": {
        "colab": {
          "base_uri": "https://localhost:8080/"
        },
        "id": "AAhMSuxpK-Ux",
        "outputId": "ea0d4e8b-85f9-4d34-a261-b1f4ee67c77d"
      },
      "execution_count": null,
      "outputs": [
        {
          "output_type": "stream",
          "name": "stdout",
          "text": [
            "N E X T F L O W  ~  version 22.04.5\n",
            "Launching `my_pipeline.nf` [distraught_pare] DSL2 - revision: 3c0f26639b\n",
            "\n",
            "  Q U A L I T Y   C O N T R O L  \n",
            "=================================\n",
            "SRA number         : [SRR20851170, SRR20851171, SRR20851172, SRR20851173, SRR20851174, SRR20851176, SRR20851179, SRR20851183]\n",
            "Results location   : results/\n",
            "[-        ] process > DownloadFastQ -\u001b[K\n",
            "[-        ] process > QC            -\u001b[K\n",
            "[-        ] process > MultiQC       -\u001b[K\n",
            "\u001b[4A\n",
            "[-        ] process > DownloadFastQ [  0%] 0 of 4\u001b[K\n",
            "[-        ] process > QC            -\u001b[K\n",
            "[-        ] process > MultiQC       -\u001b[K\n",
            "\u001b[4A\n",
            "executor >  local (2)\u001b[K\n",
            "[60/3dee7e] process > DownloadFastQ (2) [  0%] 0 of 8\u001b[K\n",
            "[-        ] process > QC                -\u001b[K\n",
            "[-        ] process > MultiQC           -\u001b[K\n",
            "\u001b[5A\n",
            "executor >  local (3)\u001b[K\n",
            "[33/06c5b6] process > DownloadFastQ (3) [  0%] 0 of 8\u001b[K\n",
            "[-        ] process > QC                -\u001b[K\n",
            "[-        ] process > MultiQC           -\u001b[K\n",
            "\u001b[5A\n",
            "executor >  local (3)\u001b[K\n",
            "[04/e0405d] process > DownloadFastQ (1) [ 12%] 1 of 8\u001b[K\n",
            "[-        ] process > QC                [  0%] 0 of 1\u001b[K\n",
            "[-        ] process > MultiQC           -\u001b[K\n",
            "\u001b[5A\n",
            "executor >  local (3)\u001b[K\n",
            "[04/e0405d] process > DownloadFastQ (1) [ 12%] 1 of 8\u001b[K\n",
            "[-        ] process > QC                [  0%] 0 of 1\u001b[K\n",
            "[-        ] process > MultiQC           -\u001b[K\n",
            "\u001b[5A\n",
            "executor >  local (4)\u001b[K\n",
            "[05/01a4cd] process > DownloadFastQ (5) [ 25%] 2 of 8\u001b[K\n",
            "[-        ] process > QC                [  0%] 0 of 2\u001b[K\n",
            "[-        ] process > MultiQC           -\u001b[K\n",
            "\u001b[5A\n",
            "executor >  local (4)\u001b[K\n",
            "[05/01a4cd] process > DownloadFastQ (5) [ 25%] 2 of 8\u001b[K\n",
            "[-        ] process > QC                [  0%] 0 of 2\u001b[K\n",
            "[-        ] process > MultiQC           -\u001b[K\n",
            "\u001b[5A\n",
            "executor >  local (5)\u001b[K\n",
            "[b8/91218b] process > DownloadFastQ (4) [ 37%] 3 of 8\u001b[K\n",
            "[-        ] process > QC                [  0%] 0 of 3\u001b[K\n",
            "[-        ] process > MultiQC           -\u001b[K\n",
            "\u001b[5A\n",
            "executor >  local (5)\u001b[K\n",
            "[b8/91218b] process > DownloadFastQ (4) [ 37%] 3 of 8\u001b[K\n",
            "[-        ] process > QC                [  0%] 0 of 3\u001b[K\n",
            "[-        ] process > MultiQC           -\u001b[K\n",
            "\u001b[5A\n",
            "executor >  local (6)\u001b[K\n",
            "[b2/41eee0] process > DownloadFastQ (6) [ 50%] 4 of 8\u001b[K\n",
            "[-        ] process > QC                [  0%] 0 of 4\u001b[K\n",
            "[-        ] process > MultiQC           -\u001b[K\n",
            "\u001b[5A\n",
            "executor >  local (6)\u001b[K\n",
            "[b2/41eee0] process > DownloadFastQ (6) [ 50%] 4 of 8\u001b[K\n",
            "[-        ] process > QC                [  0%] 0 of 4\u001b[K\n",
            "[-        ] process > MultiQC           -\u001b[K\n",
            "\u001b[5A\n",
            "executor >  local (8)\u001b[K\n",
            "[b2/41eee0] process > DownloadFastQ (6) [ 75%] 6 of 8\u001b[K\n",
            "[-        ] process > QC                [  0%] 0 of 6\u001b[K\n",
            "[-        ] process > MultiQC           -\u001b[K\n",
            "\u001b[5A\n",
            "executor >  local (9)\u001b[K\n",
            "[d7/70ced9] process > DownloadFastQ (7) [ 87%] 7 of 8\u001b[K\n",
            "[30/9f1128] process > QC (1)            [  0%] 0 of 7\u001b[K\n",
            "[-        ] process > MultiQC           -\u001b[K\n",
            "\u001b[5A\n",
            "executor >  local (10)\u001b[K\n",
            "[d7/70ced9] process > DownloadFastQ (7) [ 87%] 7 of 8 ✔\u001b[K\n",
            "[ce/f755da] process > QC (2)            [  0%] 0 of 7\u001b[K\n",
            "[-        ] process > MultiQC           -\u001b[K\n",
            "\u001b[5A\n",
            "executor >  local (10)\u001b[K\n",
            "[d2/e8b217] process > DownloadFastQ (8) [100%] 8 of 8 ✔\u001b[K\n",
            "[ce/f755da] process > QC (2)            [  0%] 0 of 8\u001b[K\n",
            "[-        ] process > MultiQC           -\u001b[K\n",
            "\u001b[5A\n",
            "executor >  local (11)\u001b[K\n",
            "[d2/e8b217] process > DownloadFastQ (8) [100%] 8 of 8 ✔\u001b[K\n",
            "[7b/97dd2c] process > QC (3)            [ 12%] 1 of 8\u001b[K\n",
            "[-        ] process > MultiQC           -\u001b[K\n",
            "\u001b[5A\n",
            "executor >  local (12)\u001b[K\n",
            "[d2/e8b217] process > DownloadFastQ (8) [100%] 8 of 8 ✔\u001b[K\n",
            "[af/c278d0] process > QC (4)            [ 25%] 2 of 8\u001b[K\n",
            "[-        ] process > MultiQC           -\u001b[K\n",
            "\u001b[5A\n",
            "executor >  local (12)\u001b[K\n",
            "[d2/e8b217] process > DownloadFastQ (8) [100%] 8 of 8 ✔\u001b[K\n",
            "[af/c278d0] process > QC (4)            [ 25%] 2 of 8\u001b[K\n",
            "[-        ] process > MultiQC           -\u001b[K\n",
            "\u001b[5A\n",
            "executor >  local (13)\u001b[K\n",
            "[d2/e8b217] process > DownloadFastQ (8) [100%] 8 of 8 ✔\u001b[K\n",
            "[5a/dc865b] process > QC (5)            [ 37%] 3 of 8\u001b[K\n",
            "[-        ] process > MultiQC           -\u001b[K\n",
            "\u001b[5A\n",
            "executor >  local (14)\u001b[K\n",
            "[d2/e8b217] process > DownloadFastQ (8) [100%] 8 of 8 ✔\u001b[K\n",
            "[6e/7346a6] process > QC (6)            [ 50%] 4 of 8\u001b[K\n",
            "[-        ] process > MultiQC           -\u001b[K\n",
            "\u001b[5A\n",
            "executor >  local (14)\u001b[K\n",
            "[d2/e8b217] process > DownloadFastQ (8) [100%] 8 of 8 ✔\u001b[K\n",
            "[18/daa835] process > QC (7)            [ 62%] 5 of 8\u001b[K\n",
            "[-        ] process > MultiQC           -\u001b[K\n",
            "\u001b[5A\n",
            "executor >  local (15)\u001b[K\n",
            "[d2/e8b217] process > DownloadFastQ (8) [100%] 8 of 8 ✔\u001b[K\n",
            "[18/daa835] process > QC (7)            [ 62%] 5 of 8\u001b[K\n",
            "[-        ] process > MultiQC           -\u001b[K\n",
            "\u001b[5A\n",
            "executor >  local (16)\u001b[K\n",
            "[d2/e8b217] process > DownloadFastQ (8) [100%] 8 of 8 ✔\u001b[K\n",
            "[7b/6176bb] process > QC (8)            [ 75%] 6 of 8\u001b[K\n",
            "[-        ] process > MultiQC           -\u001b[K\n",
            "\u001b[5A\n",
            "executor >  local (16)\u001b[K\n",
            "[d2/e8b217] process > DownloadFastQ (8) [100%] 8 of 8 ✔\u001b[K\n",
            "[18/daa835] process > QC (7)            [ 87%] 7 of 8\u001b[K\n",
            "[-        ] process > MultiQC           -\u001b[K\n",
            "\u001b[5A\n",
            "executor >  local (17)\u001b[K\n",
            "[d2/e8b217] process > DownloadFastQ (8) [100%] 8 of 8 ✔\u001b[K\n",
            "[7b/6176bb] process > QC (8)            [100%] 8 of 8 ✔\u001b[K\n",
            "[aa/cb8a28] process > MultiQC           [  0%] 0 of 1\u001b[K\n",
            "\u001b[5A\n",
            "executor >  local (17)\u001b[K\n",
            "[d2/e8b217] process > DownloadFastQ (8) [100%] 8 of 8 ✔\u001b[K\n",
            "[7b/6176bb] process > QC (8)            [100%] 8 of 8 ✔\u001b[K\n",
            "[aa/cb8a28] process > MultiQC           [100%] 1 of 1 ✔\u001b[K\n",
            "\u001b[5A\n",
            "executor >  local (17)\u001b[K\n",
            "[d2/e8b217] process > DownloadFastQ (8) [100%] 8 of 8 ✔\u001b[K\n",
            "[7b/6176bb] process > QC (8)            [100%] 8 of 8 ✔\u001b[K\n",
            "[aa/cb8a28] process > MultiQC           [100%] 1 of 1 ✔\u001b[K\n",
            "\u001b[32;1mCompleted at: 09-Sep-2022 17:59:16\n",
            "Duration    : 2m 24s\n",
            "CPU hours   : 0.1\n",
            "Succeeded   : 17\n",
            "\u001b[22;39m\u001b[K\n",
            "\n"
          ]
        }
      ]
    },
    {
      "cell_type": "markdown",
      "source": [
        "**Задание**\n",
        "\n",
        "Посмотрите на содержимое файов `flowchart.pdf` и `nextflow_report.html`. Что в них описано и как это может помочь при реализации пайплайна?"
      ],
      "metadata": {
        "id": "SehKyf5baKHu"
      }
    },
    {
      "cell_type": "code",
      "source": [],
      "metadata": {
        "id": "5rPjWOzoR02o"
      },
      "execution_count": null,
      "outputs": []
    },
    {
      "cell_type": "markdown",
      "source": [
        "## Домашнее задание\n",
        "\n",
        "Загрузите прочтения всех экспериментов из статьи <a href=\"https://www.nature.com/articles/s41598-018-23226-4\"><b>Evaluation of two main RNA-seq approaches for gene quantification in clinical RNA sequencing: polyA+ selection versus rRNA depletion</b></a>, в которой сравнивают два протокола подготовки библиотек для bulk RNA-Seq: при помощи деплеции рРНК (=<code>total</code>) или при помощи селекции polyA-транскриптов (=<code>polyA+</code>).\n",
        "\n",
        "При выполнении задания используйте Nextflow pipeline."
      ],
      "metadata": {
        "id": "-w22NmLJ54GS"
      }
    },
    {
      "cell_type": "markdown",
      "source": [],
      "metadata": {
        "id": "et6bX_rNupVf"
      }
    },
    {
      "cell_type": "code",
      "source": [
        "!./nextflow run my_pipeline.nf --SRA SRR6410603,SRR6410604,SRR6410605,SRR6410606,SRR6410607,SRR6410608,SRR6410609,SRR6410610,SRR6410611,SRR6410612,SRR6410613,SRR6410614,SRR6410615,SRR6410616,SRR6410617,SRR6410618"
      ],
      "metadata": {
        "id": "NYUxXcRX53bo",
        "colab": {
          "base_uri": "https://localhost:8080/"
        },
        "outputId": "affd789f-8e8c-4bf6-a3a1-6326c04615e9"
      },
      "execution_count": 18,
      "outputs": [
        {
          "output_type": "stream",
          "name": "stdout",
          "text": [
            "\n",
            "\u001b[1m\u001b[38;5;232m\u001b[48;5;43m N E X T F L O W \u001b[0;2m  ~  \u001b[mversion 25.04.6\u001b[m\n",
            "\u001b[K\n",
            "Launching\u001b[35m `my_pipeline.nf` \u001b[0;2m[\u001b[0;1;36melegant_ramanujan\u001b[0;2m] DSL2 - \u001b[36mrevision: \u001b[0;36m49198b405c\u001b[m\n",
            "\u001b[K\n",
            "  Q U A L I T Y   C O N T R O L  \n",
            "=========\n",
            "SRA numbers        : SRR6410603,SRR6410604,SRR6410605,SRR6410606,SRR6410607,SRR6410608,SRR6410609,SRR6410610,SRR6410611,SRR6410612,SRR6410613,SRR6410614,SRR6410615,SRR6410616,SRR6410617,SRR6410618\n",
            "Results location   : results/\n",
            "\u001b[2m[\u001b[0;34m-        \u001b[0;2m] \u001b[0;2m\u001b[mDownloadFastQ -\u001b[K\n",
            "\u001b[2A\n",
            "\u001b[2m[\u001b[0;34m-        \u001b[0;2m] \u001b[0;2m\u001b[mDownloadFastQ -\u001b[K\n",
            "\u001b[2m[\u001b[0;34m-        \u001b[0;2m] \u001b[0;2m\u001b[mQC            -\u001b[K\n",
            "\u001b[2m[\u001b[0;34m-        \u001b[0;2m] \u001b[0;2m\u001b[mmultiQC       -\u001b[K\n",
            "\u001b[4A\n",
            "\u001b[2m[\u001b[0;34m-        \u001b[0;2m] \u001b[0;2m\u001b[mDownloadFastQ\u001b[2m |\u001b[m 0 of 13\u001b[K\n",
            "\u001b[2m[\u001b[0;34m-        \u001b[0;2m] \u001b[0;2m\u001b[mQC            -\u001b[K\n",
            "\u001b[2m[\u001b[0;34m-        \u001b[0;2m] \u001b[0;2m\u001b[mmultiQC       -\u001b[K\n",
            "\u001b[4A\n",
            "\u001b[2mexecutor >  local (2)\u001b[m\u001b[K\n",
            "\u001b[2m[\u001b[0;34m15/455ce9\u001b[0;2m] \u001b[0;2m\u001b[mDownloadFastQ\u001b[33;2m (\u001b[0;33m2\u001b[2m)\u001b[m\u001b[2m |\u001b[m 0 of 16\u001b[K\n",
            "\u001b[2m[\u001b[0;34m-        \u001b[0;2m] \u001b[0;2m\u001b[mQC                -\u001b[K\n",
            "\u001b[2m[\u001b[0;34m-        \u001b[0;2m] \u001b[0;2m\u001b[mmultiQC           -\u001b[K\n",
            "\u001b[5A\n",
            "\u001b[2mexecutor >  local (2)\u001b[m\u001b[K\n",
            "\u001b[2m[\u001b[0;34m15/455ce9\u001b[0;2m] \u001b[0;2m\u001b[mDownloadFastQ\u001b[33;2m (\u001b[0;33m2\u001b[2m)\u001b[m\u001b[2m |\u001b[m 0 of 16\u001b[K\n",
            "\u001b[2m[\u001b[0;34m-        \u001b[0;2m] \u001b[0;2m\u001b[mQC                -\u001b[K\n",
            "\u001b[2m[\u001b[0;34m-        \u001b[0;2m] \u001b[0;2m\u001b[mmultiQC           -\u001b[K\n",
            "\u001b[5A\n",
            "\u001b[2mexecutor >  local (2)\u001b[m\u001b[K\n",
            "\u001b[2m[\u001b[0;34m15/455ce9\u001b[0;2m] \u001b[0;2m\u001b[mDownloadFastQ\u001b[33;2m (\u001b[0;33m2\u001b[2m)\u001b[m\u001b[2m |\u001b[m 0 of 16\u001b[K\n",
            "\u001b[2m[\u001b[0;34m-        \u001b[0;2m] \u001b[0;2m\u001b[mQC                -\u001b[K\n",
            "\u001b[2m[\u001b[0;34m-        \u001b[0;2m] \u001b[0;2m\u001b[mmultiQC           -\u001b[K\n",
            "\u001b[31mERROR ~ Error executing process > 'DownloadFastQ (4)'\u001b[K\n",
            "\u001b[K\n",
            "Caused by:\u001b[K\n",
            "  No space left on device\u001b[K\n",
            "\u001b[K\n",
            "\u001b[K\n",
            "\u001b[K\n",
            " -- Check '.nextflow.log' file for details\u001b[39m\u001b[K\n",
            "\u001b[13A\n",
            "\u001b[2mexecutor >  local (2)\u001b[m\u001b[K\n",
            "\u001b[2m[\u001b[0;34m3a/d36bc6\u001b[0;2m] \u001b[0;2m\u001b[mDownloadFastQ\u001b[33;2m (\u001b[0;33m4\u001b[2m)\u001b[m\u001b[2m |\u001b[m 0 of 16\u001b[K\n",
            "\u001b[2m[\u001b[0;34m-        \u001b[0;2m] \u001b[0;2m\u001b[mQC                -\u001b[K\n",
            "\u001b[2m[\u001b[0;34m-        \u001b[0;2m] \u001b[0;2m\u001b[mmultiQC           -\u001b[K\n",
            "\u001b[31mERROR ~ Error executing process > 'DownloadFastQ (4)'\u001b[K\n",
            "\u001b[K\n",
            "Caused by:\u001b[K\n",
            "  No space left on device\u001b[K\n",
            "\u001b[K\n",
            "\u001b[K\n",
            "\u001b[K\n",
            " -- Check '.nextflow.log' file for details\u001b[39m\u001b[K\n",
            "\n"
          ]
        }
      ]
    },
    {
      "cell_type": "code",
      "source": [],
      "metadata": {
        "id": "NFVxWJSpviy_"
      },
      "execution_count": null,
      "outputs": []
    }
  ],
  "metadata": {
    "colab": {
      "provenance": []
    },
    "kernelspec": {
      "display_name": "Python 3",
      "name": "python3"
    },
    "language_info": {
      "name": "python"
    }
  },
  "nbformat": 4,
  "nbformat_minor": 0
}